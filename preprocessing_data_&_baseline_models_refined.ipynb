{
  "nbformat": 4,
  "nbformat_minor": 0,
  "metadata": {
    "colab": {
      "name": "preprocessing_data_&_baseline_models_refined.ipynb",
      "provenance": [],
      "collapsed_sections": [],
      "include_colab_link": true
    },
    "kernelspec": {
      "name": "python3",
      "display_name": "Python 3"
    }
  },
  "cells": [
    {
      "cell_type": "markdown",
      "metadata": {
        "id": "view-in-github",
        "colab_type": "text"
      },
      "source": [
        "<a href=\"https://colab.research.google.com/github/arthtalati/Deep-Learning-based-Authorship-Identification/blob/master/preprocessing_data_%26_baseline_models_refined.ipynb\" target=\"_parent\"><img src=\"https://colab.research.google.com/assets/colab-badge.svg\" alt=\"Open In Colab\"/></a>"
      ]
    },
    {
      "cell_type": "markdown",
      "metadata": {
        "id": "bsu5g58p7j7e",
        "colab_type": "text"
      },
      "source": [
        "## Preprocessing and character level models"
      ]
    },
    {
      "cell_type": "code",
      "metadata": {
        "id": "7FWj840wZSKD",
        "colab_type": "code",
        "colab": {}
      },
      "source": [
        "import pandas as pd\n",
        "import numpy as np\n",
        "import os\n",
        "import dill\n",
        "import pandas as pd\n",
        "import glob, csv\n",
        "import nltk\n",
        "from nltk.stem import WordNetLemmatizer \n",
        "nltk.download('wordnet')\n",
        "nltk.download('punkt') # Download this as this allows you to tokenize words in a string.\n",
        "lemmatizer = WordNetLemmatizer()\n",
        "\n",
        "\n",
        "import matplotlib.pyplot as plt\n",
        "from matplotlib.pyplot import figure\n",
        "import numpy as np\n",
        "import re\n",
        "import string\n",
        "import seaborn as sns\n",
        "from sklearn.preprocessing import StandardScaler\n",
        "from nltk.corpus import stopwords\n",
        "from nltk.tokenize import word_tokenize"
      ],
      "execution_count": null,
      "outputs": []
    },
    {
      "cell_type": "code",
      "metadata": {
        "id": "Pw6F_UwoZ9j6",
        "colab_type": "code",
        "colab": {}
      },
      "source": [
        "from google.colab import drive\n",
        "drive.mount('/content/drive')"
      ],
      "execution_count": null,
      "outputs": []
    },
    {
      "cell_type": "code",
      "metadata": {
        "id": "Av2qW80zaAr8",
        "colab_type": "code",
        "colab": {}
      },
      "source": [
        "!unzip '/content/drive/My Drive/519/Project/C50.zip'"
      ],
      "execution_count": null,
      "outputs": []
    },
    {
      "cell_type": "markdown",
      "metadata": {
        "id": "9-iTLXXklI1K",
        "colab_type": "text"
      },
      "source": [
        "## TRAIN PRE-PROCESS Sentence level"
      ]
    },
    {
      "cell_type": "code",
      "metadata": {
        "id": "zxj5f1KqnPZ4",
        "colab_type": "code",
        "colab": {}
      },
      "source": [
        "train_file_df = pd.DataFrame()\n",
        "temp_df = pd.DataFrame()\n",
        "for i, filepath in enumerate(glob.iglob('/content/C50train/*/*.txt')):\n",
        "    print('Analysing', i , ' -> ', ' of Author ', str(filepath.split(\"/\")[3]))\n",
        "    temp_df = pd.read_csv(filepath, delimiter=\"\\t\", header = None, error_bad_lines=False, quoting = csv.QUOTE_NONE, encoding='utf-8')\n",
        "    temp_df['Author'] = filepath.split(\"/\")[3]\n",
        "    temp_frame = [train_file_df, temp_df]\n",
        "    train_file_df = pd.concat(temp_frame)\n",
        "    \n",
        "train_file_df = train_file_df.rename(columns={ 0 : 'text'})"
      ],
      "execution_count": null,
      "outputs": []
    },
    {
      "cell_type": "code",
      "metadata": {
        "id": "dU5q-4KFZJp8",
        "colab_type": "code",
        "colab": {}
      },
      "source": [
        "train_file_df"
      ],
      "execution_count": null,
      "outputs": []
    },
    {
      "cell_type": "markdown",
      "metadata": {
        "id": "Krl-z6kw2Ndn",
        "colab_type": "text"
      },
      "source": [
        "## Train Preprocess Article level"
      ]
    },
    {
      "cell_type": "code",
      "metadata": {
        "id": "SrtisbwU0mny",
        "colab_type": "code",
        "colab": {}
      },
      "source": [
        "# article level\n",
        "\n",
        "train_file_article_df = pd.DataFrame(columns=['text','Author'])\n",
        "temp_df = pd.DataFrame(columns=['text','Author'])\n",
        "\n",
        "for i, filepath in enumerate(glob.iglob('/content/C50train/*/*.txt')):\n",
        "  print('Analysing', i , ' -> ', ' of Author ', str(filepath.split(\"/\")[3]))\n",
        "  with open(filepath, 'r') as myfile:\n",
        "    data = myfile.read()\n",
        "  # tokens = word_tokenize(data)\n",
        "  train_file_article_df = train_file_article_df.append({'text' : data ,\n",
        "                                                        'Author' : str(filepath.split(\"/\")[3])} , ignore_index=True)\n"
      ],
      "execution_count": null,
      "outputs": []
    },
    {
      "cell_type": "code",
      "metadata": {
        "id": "r47Z4Gpb3pzS",
        "colab_type": "code",
        "colab": {}
      },
      "source": [
        "# article level test\n",
        "\n",
        "test_file_article_df = pd.DataFrame(columns=['text','Author'])\n",
        "temp_df = pd.DataFrame(columns=['text','Author'])\n",
        "\n",
        "for i, filepath in enumerate(glob.iglob('/content/C50test/*/*.txt')):\n",
        "  print('Analysing', i , ' -> ', ' of Author ', str(filepath.split(\"/\")[3]))\n",
        "  with open(filepath, 'r') as myfile:\n",
        "    data = myfile.read()\n",
        "  # tokens = word_tokenize(data)\n",
        "  test_file_article_df = test_file_article_df.append({'text' : data ,\n",
        "                                                        'Author' : str(filepath.split(\"/\")[3])} , ignore_index=True)\n"
      ],
      "execution_count": null,
      "outputs": []
    },
    {
      "cell_type": "code",
      "metadata": {
        "id": "brWJQJc2cO24",
        "colab_type": "code",
        "colab": {}
      },
      "source": [
        "train_file_article_df = train_file_article_df.sample(frac=1).reset_index(drop=True)\n",
        "# data = data.drop(columns='level_0')\n",
        "train_file_article_df"
      ],
      "execution_count": null,
      "outputs": []
    },
    {
      "cell_type": "code",
      "metadata": {
        "id": "95xAWtGo360u",
        "colab_type": "code",
        "colab": {}
      },
      "source": [
        "test_file_article_df = test_file_article_df.sample(frac=1).reset_index(drop=True)\n",
        "# data = data.drop(columns='level_0')\n",
        "test_file_article_df"
      ],
      "execution_count": null,
      "outputs": []
    },
    {
      "cell_type": "code",
      "metadata": {
        "id": "UJWceRQWO7pj",
        "colab_type": "code",
        "colab": {}
      },
      "source": [
        "data = pd.concat([train_file_article_df, test_file_article_df], ignore_index=True)\n",
        "                                          \n",
        "freq = pd.DataFrame({'Author':list(set(train_file_article_df.Author)),\n",
        "                     'nostoextract':[70]*50, })\n",
        "\n",
        "def bootstrap(data, freq):\n",
        "    freq = freq.set_index('Author')\n",
        "\n",
        "    # This function will be applied on each group of instances of the same\n",
        "    # class in `data`.\n",
        "    def sampleClass(classgroup):\n",
        "        cls = classgroup['Author'].iloc[0]\n",
        "        nDesired = freq.nostoextract[cls]\n",
        "        nRows = len(classgroup)\n",
        "\n",
        "        nSamples = min(nRows, nDesired)\n",
        "        return classgroup.sample(nSamples)\n",
        "\n",
        "    samples = data.groupby('Author').apply(sampleClass)\n",
        "\n",
        "    # If you want a new index with ascending values\n",
        "    # samples.index = range(len(samples))\n",
        "\n",
        "    # If you want an index which is equal to the row in `data` where the sample\n",
        "    # came from\n",
        "    samples.index = samples.index.get_level_values(1)\n",
        "\n",
        "    # If you don't change it then you'll have a multiindex with level 0\n",
        "    # being the class and level 1 being the row in `data` where\n",
        "    # the sample came from.\n",
        "\n",
        "    return samples\n",
        "mega_train = bootstrap(data,freq)"
      ],
      "execution_count": null,
      "outputs": []
    },
    {
      "cell_type": "code",
      "metadata": {
        "id": "Al6nUB8H4WrS",
        "colab_type": "code",
        "colab": {}
      },
      "source": [
        "mega_train"
      ],
      "execution_count": null,
      "outputs": []
    },
    {
      "cell_type": "code",
      "metadata": {
        "id": "FEEkvhPiQR2a",
        "colab_type": "code",
        "colab": {}
      },
      "source": [
        "mega_test = None\n",
        "mega_train = mega_train.reset_index()\n",
        "data = data.reset_index()\n",
        "\n",
        "my_tot = range(5000)\n",
        "row_list = list(mega_train['index'])\n",
        "\n",
        "sep_list = []\n",
        "for i in my_tot:\n",
        "  if (i not in row_list):\n",
        "    sep_list.append(1)\n",
        "  else:\n",
        "    sep_list.append(0)\n",
        "\n",
        "\n",
        "data['hopeful_test'] = sep_list\n",
        "mega_test = data[data['hopeful_test'] == 1]\n",
        "mega_test.Author.value_counts()"
      ],
      "execution_count": null,
      "outputs": []
    },
    {
      "cell_type": "code",
      "metadata": {
        "id": "BMqIBtuW4c0H",
        "colab_type": "code",
        "colab": {}
      },
      "source": [
        "mega_train.Author.value_counts()"
      ],
      "execution_count": null,
      "outputs": []
    },
    {
      "cell_type": "code",
      "metadata": {
        "id": "bwp7qX-TT2TI",
        "colab_type": "code",
        "colab": {
          "base_uri": "https://localhost:8080/",
          "height": 34
        },
        "outputId": "5a7e6634-5e08-42d3-c5d5-736edabdb98a"
      },
      "source": [
        "mega_test.to_csv('mega_test_70_30.csv',index = False, header=True)\n",
        "!cp mega_test_60_40.csv \"/content\""
      ],
      "execution_count": null,
      "outputs": [
        {
          "output_type": "stream",
          "text": [
            "cp: 'mega_test_60_40.csv' and '/content/mega_test_60_40.csv' are the same file\n"
          ],
          "name": "stdout"
        }
      ]
    },
    {
      "cell_type": "code",
      "metadata": {
        "id": "bFnpxk8zT5Yx",
        "colab_type": "code",
        "colab": {}
      },
      "source": [
        "mega_train.to_csv('mega_train_70_30.csv',index = False, header=True)\n",
        "!cp mega_train_60_40.csv \"/content\""
      ],
      "execution_count": null,
      "outputs": []
    },
    {
      "cell_type": "code",
      "metadata": {
        "id": "BYPU2zizUNPF",
        "colab_type": "code",
        "colab": {}
      },
      "source": [
        "mega_train['index']"
      ],
      "execution_count": null,
      "outputs": []
    },
    {
      "cell_type": "code",
      "metadata": {
        "id": "gtQt4jd2Y54y",
        "colab_type": "code",
        "colab": {}
      },
      "source": [
        "data"
      ],
      "execution_count": null,
      "outputs": []
    },
    {
      "cell_type": "code",
      "metadata": {
        "id": "bs769XM8Vc1_",
        "colab_type": "code",
        "colab": {}
      },
      "source": [
        "row_list = list(mega_train['index'])\n",
        "data.loc[row_list]"
      ],
      "execution_count": null,
      "outputs": []
    },
    {
      "cell_type": "code",
      "metadata": {
        "id": "o9kUfY_Vawr7",
        "colab_type": "code",
        "colab": {}
      },
      "source": [
        ""
      ],
      "execution_count": null,
      "outputs": []
    },
    {
      "cell_type": "code",
      "metadata": {
        "id": "sBDCgeuLbDnp",
        "colab_type": "code",
        "colab": {}
      },
      "source": [
        "mega_test = data[data['hopeful_test'] == 1]"
      ],
      "execution_count": null,
      "outputs": []
    },
    {
      "cell_type": "code",
      "metadata": {
        "id": "4pr3qKZCbLnm",
        "colab_type": "code",
        "colab": {}
      },
      "source": [
        "mega_test.Author.value_counts()"
      ],
      "execution_count": null,
      "outputs": []
    },
    {
      "cell_type": "code",
      "metadata": {
        "id": "AMNllyr3QOPU",
        "colab_type": "code",
        "colab": {}
      },
      "source": [
        "my_tot = range(5000)\n",
        "\n",
        "sep_list = []\n",
        "for i in my_tot:\n",
        "  if (i not in row_list):\n",
        "    sep_list.append(1)\n",
        "  else:\n",
        "    sep_list.append(0)\n",
        "\n",
        "\n",
        "data['hopeful_test'] = sep_list\n",
        "mega_test = data[data['hopeful_test'] == 1]\n",
        "mega_test.Author.value_counts()"
      ],
      "execution_count": null,
      "outputs": []
    },
    {
      "cell_type": "code",
      "metadata": {
        "id": "LEZosdxk-v1X",
        "colab_type": "code",
        "colab": {}
      },
      "source": [
        "train_file_article_df['period'] = train_file_article_df['text'].apply(lambda x : x.count(\".\"))\n",
        "\n",
        "# train_file_article_df.iloc[0][0].count('.')"
      ],
      "execution_count": null,
      "outputs": []
    },
    {
      "cell_type": "code",
      "metadata": {
        "id": "EC-pg31vUK69",
        "colab_type": "code",
        "colab": {
          "base_uri": "https://localhost:8080/",
          "height": 34
        },
        "outputId": "a5d53ddb-36bc-4b49-fff1-7137103eac30"
      },
      "source": [
        "with open('/content/C50train/AaronPressman/2537newsML.txt', 'r') as myfile:\n",
        "  data = myfile.read()\n",
        "# data.count('\\n\\n') + 1\n",
        "\n",
        "lines = data.split('\\n')\n",
        "count = 0\n",
        "if not line.strip() == '':\n",
        "    count += 1\n",
        "\n",
        "print(count)"
      ],
      "execution_count": null,
      "outputs": [
        {
          "output_type": "stream",
          "text": [
            "1\n"
          ],
          "name": "stdout"
        }
      ]
    },
    {
      "cell_type": "code",
      "metadata": {
        "id": "dZUePGV1V0Bw",
        "colab_type": "code",
        "colab": {
          "base_uri": "https://localhost:8080/",
          "height": 54
        },
        "outputId": "5d7fda53-ebf6-4e16-bbd7-007724297dfc"
      },
      "source": [
        "data"
      ],
      "execution_count": null,
      "outputs": [
        {
          "output_type": "execute_result",
          "data": {
            "text/plain": [
              "'A break-in at the U.S. Justice Department\\'s World Wide Web site last week highlighted the Internet\\'s continued vulnerability to hackers.\\nUnidentified hackers gained access to the department\\'s web page on August 16 and replaced it with a hate-filled diatribe labelled the \"Department of Injustice\" that included a swastika and a picture of Adolf Hitler.\\nJustice officials quickly pulled the plug on the vandalised page, but the security flaws that allowed hackers to gain entry likely exist in thousands of other corporate and government web sites, security experts said.\\n\"The vast majority of sites are vulnerable,\" said Richard Power, senior analyst at the Computer Security Institute. \"The Justice Department shouldn\\'t be singled out.\"\\nJustice Department officials said the compromised web site was not connected to any computers containing sensitive files. The web site (http://www.usdoj.gov) included copies of press releases, speeches and other publicly available information.\\nThe security breach \"is just like graffiti on the outside of the building,\" spokesman Bert Brandenburg said.\\nOther organisations have been targeted in the past. Last year, the Nation of Islam\\'s Million Man March web site was vandalised. And hackers make 250,000 attempts annually to break into U.S. military computers, according to a General Accounting Office report.\\nWindows Magazine recently found security flaws at web sites of a dozen major corporations. \"The web is spectacularly insecure,\" editor Mike Elgan said. Relying on security holes that had been documented by software manufacturers months earlier, the magazine\\'s specialists were able to gain various degrees of unauthorised access at the different sites.\\nElgan said hackers who are exploiting some of the same flaws are motivated by anger over the growth and commercialization of the Internet. \"A common theme is that hackers are fed up with non-hackers on the Internet,\" he said.\\nThe battle is not completely hopeless. \"You can secure a web site,\" Richard Power said. \"There\\'s all kinds of measures you can take. Most corporations and institutions don\\'t take them simply because nothing bad has happened to them yet.\"\\nSome sites are using multiple layers of security, well beyond simple password protection, to keep hackers out.\\nOne site mentioned by Windows Magazine was Fidelity Investments. Fidelity\\'s site advertises its mutual funds and disseminates information about personal finance but does not contain confidential customer information.\\nFidelity officials immediately closed the loophole identified by the magazine, a spokeswoman said. But multiple security measures previously in place would have prevented a security breach despite the hole, the spokeswoman added.\\n'"
            ]
          },
          "metadata": {
            "tags": []
          },
          "execution_count": 61
        }
      ]
    },
    {
      "cell_type": "markdown",
      "metadata": {
        "id": "so18MbLO9BPC",
        "colab_type": "text"
      },
      "source": [
        "## Test Preprocess Article Level"
      ]
    },
    {
      "cell_type": "code",
      "metadata": {
        "id": "jNHhqmqg9FpY",
        "colab_type": "code",
        "colab": {}
      },
      "source": [
        "# article level\n",
        "\n",
        "test_file_article_df = pd.DataFrame(columns=['text','Author'])\n",
        "temp_df = pd.DataFrame(columns=['text','Author'])\n",
        "\n",
        "for i, filepath in enumerate(glob.iglob('/content/C50test/*.txt')):\n",
        "  print('Analysing', i , ' -> ', ' of Author ', str(filepath.split(\"/\")[3]))\n",
        "  with open(filepath, 'r') as myfile:\n",
        "    data = myfile.read()\n",
        "  tokens = word_tokenize(data)\n",
        "  test_file_article_df = test_file_article_df.append({'text' : tokens ,\n",
        "                                                        'Author' : str(filepath.split(\"/\")[3])} , ignore_index=True)\n",
        "\n",
        "\n",
        "test_file_article_df.to_csv('test_article_lvl.csv', header=True, index=False) "
      ],
      "execution_count": null,
      "outputs": []
    },
    {
      "cell_type": "code",
      "metadata": {
        "id": "_DF7gL66-F7v",
        "colab_type": "code",
        "colab": {
          "base_uri": "https://localhost:8080/",
          "height": 419
        },
        "outputId": "6b3f57f2-2e00-40ff-8e9b-a2f97f6e2164"
      },
      "source": [
        "test_file_article_df"
      ],
      "execution_count": null,
      "outputs": [
        {
          "output_type": "execute_result",
          "data": {
            "text/html": [
              "<div>\n",
              "<style scoped>\n",
              "    .dataframe tbody tr th:only-of-type {\n",
              "        vertical-align: middle;\n",
              "    }\n",
              "\n",
              "    .dataframe tbody tr th {\n",
              "        vertical-align: top;\n",
              "    }\n",
              "\n",
              "    .dataframe thead th {\n",
              "        text-align: right;\n",
              "    }\n",
              "</style>\n",
              "<table border=\"1\" class=\"dataframe\">\n",
              "  <thead>\n",
              "    <tr style=\"text-align: right;\">\n",
              "      <th></th>\n",
              "      <th>text</th>\n",
              "      <th>Author</th>\n",
              "    </tr>\n",
              "  </thead>\n",
              "  <tbody>\n",
              "    <tr>\n",
              "      <th>0</th>\n",
              "      <td>[Equitas, ,, created, to, run, off, Lloyd, 's,...</td>\n",
              "      <td>SimonCowell</td>\n",
              "    </tr>\n",
              "    <tr>\n",
              "      <th>1</th>\n",
              "      <td>[The, numbers, of, Names, at, Lloyd, 's, of, L...</td>\n",
              "      <td>SimonCowell</td>\n",
              "    </tr>\n",
              "    <tr>\n",
              "      <th>2</th>\n",
              "      <td>[British, composite, insurer, Royal, &amp;, amp, ;...</td>\n",
              "      <td>SimonCowell</td>\n",
              "    </tr>\n",
              "    <tr>\n",
              "      <th>3</th>\n",
              "      <td>[British, mutual, insurer, Norwich, Union, sai...</td>\n",
              "      <td>SimonCowell</td>\n",
              "    </tr>\n",
              "    <tr>\n",
              "      <th>4</th>\n",
              "      <td>[British, insurance, broker, and, risk, manage...</td>\n",
              "      <td>SimonCowell</td>\n",
              "    </tr>\n",
              "    <tr>\n",
              "      <th>...</th>\n",
              "      <td>...</td>\n",
              "      <td>...</td>\n",
              "    </tr>\n",
              "    <tr>\n",
              "      <th>2495</th>\n",
              "      <td>[Forget, applets, ,, baud, rates, and, java, ....</td>\n",
              "      <td>KirstinRidley</td>\n",
              "    </tr>\n",
              "    <tr>\n",
              "      <th>2496</th>\n",
              "      <td>[Cable, and, Wireless, Communications, (, CWC,...</td>\n",
              "      <td>KirstinRidley</td>\n",
              "    </tr>\n",
              "    <tr>\n",
              "      <th>2497</th>\n",
              "      <td>[USA, Global, Link, ,, the, U.S.-based, callba...</td>\n",
              "      <td>KirstinRidley</td>\n",
              "    </tr>\n",
              "    <tr>\n",
              "      <th>2498</th>\n",
              "      <td>[Tumbling, trade, barriers, are, triggering, h...</td>\n",
              "      <td>KirstinRidley</td>\n",
              "    </tr>\n",
              "    <tr>\n",
              "      <th>2499</th>\n",
              "      <td>[Shares, in, Carlton, Communications, and, Gra...</td>\n",
              "      <td>KirstinRidley</td>\n",
              "    </tr>\n",
              "  </tbody>\n",
              "</table>\n",
              "<p>2500 rows × 2 columns</p>\n",
              "</div>"
            ],
            "text/plain": [
              "                                                   text         Author\n",
              "0     [Equitas, ,, created, to, run, off, Lloyd, 's,...    SimonCowell\n",
              "1     [The, numbers, of, Names, at, Lloyd, 's, of, L...    SimonCowell\n",
              "2     [British, composite, insurer, Royal, &, amp, ;...    SimonCowell\n",
              "3     [British, mutual, insurer, Norwich, Union, sai...    SimonCowell\n",
              "4     [British, insurance, broker, and, risk, manage...    SimonCowell\n",
              "...                                                 ...            ...\n",
              "2495  [Forget, applets, ,, baud, rates, and, java, ....  KirstinRidley\n",
              "2496  [Cable, and, Wireless, Communications, (, CWC,...  KirstinRidley\n",
              "2497  [USA, Global, Link, ,, the, U.S.-based, callba...  KirstinRidley\n",
              "2498  [Tumbling, trade, barriers, are, triggering, h...  KirstinRidley\n",
              "2499  [Shares, in, Carlton, Communications, and, Gra...  KirstinRidley\n",
              "\n",
              "[2500 rows x 2 columns]"
            ]
          },
          "metadata": {
            "tags": []
          },
          "execution_count": 30
        }
      ]
    },
    {
      "cell_type": "code",
      "metadata": {
        "id": "bkJUvPZDp8if",
        "colab_type": "code",
        "colab": {}
      },
      "source": [
        "# create neew col with author number mappings for ML\n",
        "auth_sort = sorted(train_file_df['Author'].unique())\n",
        "dictOfAuthors = { i : auth_sort[i] for i in range(0, len(auth_sort) ) }\n",
        "swap_dict = {value:key for key, value in dictOfAuthors.items()}\n",
        "train_file_df['Author_num'] = train_file_df['Author'].map(swap_dict)"
      ],
      "execution_count": null,
      "outputs": []
    },
    {
      "cell_type": "markdown",
      "metadata": {
        "id": "n_qXC7v0lTdw",
        "colab_type": "text"
      },
      "source": [
        "##TEST PRE-PROCESS"
      ]
    },
    {
      "cell_type": "code",
      "metadata": {
        "id": "jmn65DWhlW8B",
        "colab_type": "code",
        "colab": {}
      },
      "source": [
        "test_file_df = pd.DataFrame()\n",
        "temp_df = pd.DataFrame()\n",
        "\n",
        "for i, filepath in enumerate(glob.iglob('/content/C50test/*/*.txt')):\n",
        "    print('Analysing', i , ' -> ', ' of Author ', str(filepath.split(\"/\")[3]))\n",
        "    temp_df = pd.read_csv(filepath, delimiter=\"\\t\", header = None, error_bad_lines=False, quoting = csv.QUOTE_NONE, encoding='utf-8')\n",
        "    temp_df['Author'] = filepath.split(\"/\")[3]\n",
        "    temp_frame = [test_file_df, temp_df]\n",
        "    test_file_df = pd.concat(temp_frame)\n",
        "    \n",
        "test_file_df = test_file_df.rename(columns={ 0 : 'text'})\n",
        "test_file_df.head(3)"
      ],
      "execution_count": null,
      "outputs": []
    },
    {
      "cell_type": "code",
      "metadata": {
        "id": "omPpu66tlzlF",
        "colab_type": "code",
        "colab": {
          "base_uri": "https://localhost:8080/",
          "height": 51
        },
        "outputId": "1156d9db-cc31-4ecc-d919-953491f095fe"
      },
      "source": [
        "# avg number of sentences of each author in test data\n",
        "test_file_df.groupby('Author').count().mean()"
      ],
      "execution_count": null,
      "outputs": [
        {
          "output_type": "execute_result",
          "data": {
            "text/plain": [
              "text    880.2\n",
              "dtype: float64"
            ]
          },
          "metadata": {
            "tags": []
          },
          "execution_count": 128
        }
      ]
    },
    {
      "cell_type": "code",
      "metadata": {
        "id": "p-72vFlkmAid",
        "colab_type": "code",
        "colab": {}
      },
      "source": [
        "# count of sentences of each author in test data\n",
        "test_file_df.groupby('Author').count()"
      ],
      "execution_count": null,
      "outputs": []
    },
    {
      "cell_type": "code",
      "metadata": {
        "id": "cNNfuVwDsGee",
        "colab_type": "code",
        "colab": {}
      },
      "source": [
        "test_file_df['Author_num'] = test_file_df['Author'].map(swap_dict)"
      ],
      "execution_count": null,
      "outputs": []
    },
    {
      "cell_type": "code",
      "metadata": {
        "id": "77U-l5PxsKFI",
        "colab_type": "code",
        "colab": {}
      },
      "source": [
        "test_file_df['Author'].unique()"
      ],
      "execution_count": null,
      "outputs": []
    },
    {
      "cell_type": "markdown",
      "metadata": {
        "id": "H3RIWcATZoi3",
        "colab_type": "text"
      },
      "source": [
        "## Ranjani Stop Words "
      ]
    },
    {
      "cell_type": "code",
      "metadata": {
        "id": "S_Mqo0DEBPEh",
        "colab_type": "code",
        "colab": {
          "base_uri": "https://localhost:8080/",
          "height": 513
        },
        "outputId": "ec29e4b0-ad0f-499e-96ed-032be13a61a6"
      },
      "source": [
        "import nltk\n",
        "from nltk.corpus import stopwords\n",
        "import string\n",
        "from nltk.tokenize import word_tokenize\n",
        "\n",
        "nltk.download('stopwords')\n",
        "vocab_final = test_file_df['text']\n",
        "\n",
        "\n",
        "stop = stopwords.words('english')\n",
        "#print(stop)\n",
        "test_file_df['text'] = test_file_df.text.str.lower()    #converting to lower case\n",
        "test_file_df[\"text\"] = test_file_df['text'].str.replace('[^\\w\\s]','')     #removing punctuations\n",
        "test_file_df['tokenized_sents'] = test_file_df.apply(lambda row: nltk.word_tokenize(row['text']), axis=1)\n",
        "print(test_file_df['tokenized_sents'])\n",
        "print(\" \")\n",
        "print(test_file_df['tokenized_sents'].apply(lambda x: [item for item in x if item not in stop]))\n",
        "\n",
        "\n",
        "\"\"\"stops = set(stopwords.words(\"english\"))    \n",
        "print(stops)              \n",
        "print [i for i in vocab_final.split() if i not in stops]\"\"\""
      ],
      "execution_count": null,
      "outputs": [
        {
          "output_type": "stream",
          "text": [
            "[nltk_data] Downloading package stopwords to /root/nltk_data...\n",
            "[nltk_data]   Package stopwords is already up-to-date!\n",
            "0     [the, australian, government, appointed, stock...\n",
            "1     [the, float, is, estimated, to, raise, a, mini...\n",
            "2     [finance, minister, john, fahey, said, he, wan...\n",
            "3     [i, want, it, ready, to, go, to, the, market, ...\n",
            "4     [but, i, am, not, saying, it, will, he, said, ...\n",
            "                            ...                        \n",
            "12    [management, feels, it, is, difficult, to, mai...\n",
            "13    [for, instance, the, nongovernment, railways, ...\n",
            "14    [management, and, labour, at, takeda, chemical...\n",
            "15    [masao, yuki, executive, vice, president, at, ...\n",
            "16    [asahi, banks, osaka, said, it, is, inevitable...\n",
            "Name: tokenized_sents, Length: 44010, dtype: object\n",
            " \n",
            "0     [australian, government, appointed, stockbroke...\n",
            "1     [float, estimated, raise, minimum, a80, billio...\n",
            "2     [finance, minister, john, fahey, said, wanted,...\n",
            "3     [want, ready, go, market, year, calendar, year...\n",
            "4     [saying, said, added, unclear, whether, float,...\n",
            "                            ...                        \n",
            "12    [management, feels, difficult, maintain, syste...\n",
            "13    [instance, nongovernment, railways, associatio...\n",
            "14    [management, labour, takeda, chemical, industr...\n",
            "15    [masao, yuki, executive, vice, president, nikk...\n",
            "16    [asahi, banks, osaka, said, inevitable, japans...\n",
            "Name: tokenized_sents, Length: 44010, dtype: object\n"
          ],
          "name": "stdout"
        },
        {
          "output_type": "execute_result",
          "data": {
            "text/plain": [
              "'stops = set(stopwords.words(\"english\"))    \\nprint(stops)              \\nprint [i for i in vocab_final.split() if i not in stops]'"
            ]
          },
          "metadata": {
            "tags": []
          },
          "execution_count": 137
        }
      ]
    },
    {
      "cell_type": "code",
      "metadata": {
        "id": "z5E6744G3XdC",
        "colab_type": "code",
        "colab": {}
      },
      "source": [
        "#Creating Bag of words\n",
        "def make_bag_of_words(input_df):\n",
        "\n",
        "  import collections, re\n",
        "  texts = input_df\n",
        "  bagsofwords = [ collections.Counter(re.findall(r'\\w+', txt))\n",
        "              for txt in texts]\n",
        "  temp = remove_stopwords(input_df)\n",
        "  dict_bag = collections.Counter([y for x in input_df.text.values.flatten() for y in x.split()])\n",
        "  dict_bag = pd.DataFrame.from_dict(dict_bag, orient='index').reset_index()\n",
        "\n",
        "  return dict_bag"
      ],
      "execution_count": null,
      "outputs": []
    },
    {
      "cell_type": "code",
      "metadata": {
        "id": "-WzIgA7-5g8F",
        "colab_type": "code",
        "colab": {}
      },
      "source": [
        "make_bag_of_words(test_file_df)"
      ],
      "execution_count": null,
      "outputs": []
    },
    {
      "cell_type": "markdown",
      "metadata": {
        "id": "HHjtpnYeZht-",
        "colab_type": "text"
      },
      "source": [
        "## ARTH Hist of characters"
      ]
    },
    {
      "cell_type": "code",
      "metadata": {
        "id": "KV8HgZJTe6SU",
        "colab_type": "code",
        "colab": {}
      },
      "source": [
        "def get_char_hist(auth_name, which_set):\n",
        "  data = []\n",
        "  path = '/content/C50' + str(which_set) + '/' + str(auth_name) + '/*.txt'\n",
        "  for i, filepath in enumerate(glob.iglob(path)):\n",
        "      # print('Analysing', i , ' -> ', ' of Author ', str(filepath.split(\"/\")[3]))\n",
        "      with open(filepath, 'r') as file:\n",
        "        data.append(file.read().replace('\\n', ''))\n",
        "\n",
        "  seperator = ','\n",
        "  all_data = seperator.join(data)\n",
        "  figure(num=None, figsize=(15, 7), dpi=80, facecolor='w', edgecolor='k')\n",
        "  valid_all_data = re.sub(r\"[^A-Za-z]+\", '', all_data)\n",
        "  sentence = valid_all_data.lower()\n",
        "\n",
        "  # Convert the string to an array of integers\n",
        "  numbers = np.array([ord(c) for c in sentence])\n",
        "  u = np.unique(numbers)\n",
        "  # Make the integers range from 0 to n so there are no gaps in the histogram\n",
        "  # [0][0] was a hack to make sure `np.where` returned an int instead of an array.\n",
        "  ind = [np.where(u==n)[0][0] for n in numbers]\n",
        "  bins = range(0,len(u)+1)\n",
        "  hist, bins = np.histogram(ind, bins)\n",
        "\n",
        "  plt.bar(bins[:-1], hist, align='center')\n",
        "  plt.xticks(np.unique(ind)[:], [str(chr(n)) for n in set(numbers)])\n",
        "  plt.grid()\n",
        "  plt.show()\n"
      ],
      "execution_count": null,
      "outputs": []
    },
    {
      "cell_type": "code",
      "metadata": {
        "id": "rRf6PyREaIFB",
        "colab_type": "code",
        "colab": {
          "base_uri": "https://localhost:8080/",
          "height": 483
        },
        "outputId": "35dc7950-b9f5-4bc8-f564-c5db9669cf5c"
      },
      "source": [
        "get_char_hist('AlanCrosby', 'test')"
      ],
      "execution_count": null,
      "outputs": [
        {
          "output_type": "display_data",
          "data": {
            "image/png": "[encoded data removed]",
            "text/plain": [
              "<Figure size 1200x560 with 1 Axes>"
            ]
          },
          "metadata": {
            "tags": []
          }
        }
      ]
    },
    {
      "cell_type": "code",
      "metadata": {
        "id": "5FC2y31wck9T",
        "colab_type": "code",
        "colab": {
          "base_uri": "https://localhost:8080/",
          "height": 479
        },
        "outputId": "eb91de89-6964-4a11-dae5-4940eb6baff9"
      },
      "source": [
        "get_char_hist('LydiaZajc', 'train')"
      ],
      "execution_count": null,
      "outputs": [
        {
          "output_type": "display_data",
          "data": {
            "image/png": "[encoded data removed]",
            "text/plain": [
              "<Figure size 1200x560 with 1 Axes>"
            ]
          },
          "metadata": {
            "tags": []
          }
        }
      ]
    },
    {
      "cell_type": "code",
      "metadata": {
        "id": "61j9jcyU-zds",
        "colab_type": "code",
        "colab": {}
      },
      "source": [
        "master_author_list = ['KevinMorrison', 'AlanCrosby', 'ToddNissen', 'KevinDrawbaugh',\n",
        "                      'KouroshKarimkhany', 'JohnMastrini', 'KeithWeir', 'AaronPressman',\n",
        "                      'ScottHillis', 'HeatherScoffield', 'PeterHumphrey',\n",
        "                      'PatriciaCommins', 'BernardHickey', 'MarcelMichelson',\n",
        "                      'GrahamEarnshaw', 'JoeOrtiz', 'SarahDavison', 'SimonCowell',\n",
        "                      'WilliamKazer', 'JoWinterbottom', \"LynneO'Donnell\", 'JimGilchrist',\n",
        "                      'MatthewBunce', 'LydiaZajc', 'AlexanderSmith', 'EricAuchard',\n",
        "                      'TheresePoletti', 'BradDorfman', 'KarlPenhaul', 'NickLouth',\n",
        "                      'PierreTran', 'MichaelConnor', 'LynnleyBrowning', 'EdnaFernandes',\n",
        "                      'MarkBendeich', 'MartinWolk', 'RobinSidel', 'RogerFillion',\n",
        "                      'SamuelPerry', 'DavidLawder', 'JanLopatka', 'BenjaminKangLim',\n",
        "                      'DarrenSchuettler', 'MureDickie', 'TanEeLyn', 'TimFarrand',\n",
        "                      'KirstinRidley', 'JonathanBirt', 'JaneMacartney', 'FumikoFujisaki']"
      ],
      "execution_count": null,
      "outputs": []
    },
    {
      "cell_type": "code",
      "metadata": {
        "id": "dVKEAItEkeL7",
        "colab_type": "code",
        "colab": {}
      },
      "source": [
        "def give_me_everything(author):\n",
        "  data = []\n",
        "  list_of_dicts= []\n",
        "  list_alpha = list(string.ascii_lowercase)\n",
        "  path = '/content/C50train/' + str(author) + '/*.txt'\n",
        "  for i, filepath in enumerate(glob.iglob(path)):\n",
        "      with open(filepath, 'r') as file:\n",
        "        read_file = file.read().replace('\\n', '')\n",
        "        clean_file = re.sub(r\"[^A-Za-z]+\", '', read_file)\n",
        "        arth = {} \n",
        "        for keys in clean_file.lower(): \n",
        "          arth[keys] = arth.get(keys, 0) + 1\n",
        "        for item in list_alpha:\n",
        "          if (item not in arth.keys()):\n",
        "            arth.update( {str(item) : 0} )\n",
        "        sorted_dict = {k: arth[k] for k in sorted(arth)}\n",
        "        list_of_dicts.append(sorted_dict)\n",
        "  aut_feature = []\n",
        "  for i in range(0,26,1):\n",
        "    a_list = []\n",
        "    for dict_ in list_of_dicts:\n",
        "      a_list.append(list(dict_.values())[i])\n",
        "    # print(\"median value appended for char\", list(dict_.keys())[i], \"is\",  np.median(a_list))\n",
        "    aut_feature.append(np.median(a_list))\n",
        "  return aut_feature"
      ],
      "execution_count": null,
      "outputs": []
    },
    {
      "cell_type": "code",
      "metadata": {
        "id": "9DoEBwJy7_cL",
        "colab_type": "code",
        "colab": {}
      },
      "source": [
        "feature_final = []\n",
        "for author in master_author_list:\n",
        "  feature_final.append(give_me_everything(author))\n",
        "features_df = pd.DataFrame(feature_final)\n",
        "features_df = features_df.drop(columns={0, 4 ,8 ,14 ,20}) # vowles"
      ],
      "execution_count": null,
      "outputs": []
    },
    {
      "cell_type": "code",
      "metadata": {
        "id": "4PCfCu1HxA5H",
        "colab_type": "code",
        "colab": {}
      },
      "source": [
        "from sklearn.preprocessing import MinMaxScaler\n",
        "scaler = MinMaxScaler()\n",
        "scaler.fit(features_df)\n",
        "# print(scaler.mean_)\n",
        "\n",
        "transformed_df = scaler.transform(features_df)"
      ],
      "execution_count": null,
      "outputs": []
    },
    {
      "cell_type": "code",
      "metadata": {
        "id": "fUKKCuwjzmeL",
        "colab_type": "code",
        "colab": {
          "base_uri": "https://localhost:8080/",
          "height": 238
        },
        "outputId": "d9a00a48-5e24-4509-81c7-f23d595c741a"
      },
      "source": [
        "transformed_df"
      ],
      "execution_count": null,
      "outputs": [
        {
          "output_type": "execute_result",
          "data": {
            "text/plain": [
              "array([[0.54411765, 0.4375    , 0.66459627, ..., 0.26315789, 0.65079365,\n",
              "        0.08333333],\n",
              "       [0.29411765, 0.32638889, 0.42857143, ..., 0.        , 0.38095238,\n",
              "        0.5       ],\n",
              "       [0.47058824, 0.63194444, 0.70186335, ..., 0.10526316, 0.6984127 ,\n",
              "        0.16666667],\n",
              "       ...,\n",
              "       [0.48529412, 0.52777778, 0.60248447, ..., 0.10526316, 0.41269841,\n",
              "        0.16666667],\n",
              "       [0.63235294, 0.71527778, 1.        , ..., 0.21052632, 0.88888889,\n",
              "        0.33333333],\n",
              "       [0.97058824, 0.53472222, 0.65217391, ..., 0.        , 0.84126984,\n",
              "        0.16666667]])"
            ]
          },
          "metadata": {
            "tags": []
          },
          "execution_count": 304
        }
      ]
    },
    {
      "cell_type": "code",
      "metadata": {
        "id": "vRC5Sn7tzVxe",
        "colab_type": "code",
        "colab": {}
      },
      "source": [
        "test_feature_final = scaler.transform(test_feature_final)"
      ],
      "execution_count": null,
      "outputs": []
    },
    {
      "cell_type": "code",
      "metadata": {
        "id": "aMfCoz_9BNyE",
        "colab_type": "code",
        "colab": {}
      },
      "source": [
        "X = transformed_df\n",
        "y = range(0,50,1)"
      ],
      "execution_count": null,
      "outputs": []
    },
    {
      "cell_type": "code",
      "metadata": {
        "id": "7peWGIzRBk7o",
        "colab_type": "code",
        "colab": {
          "base_uri": "https://localhost:8080/",
          "height": 34
        },
        "outputId": "12359e85-9735-4502-a18e-aabd353f444f"
      },
      "source": [
        "max_val = 0\n",
        "for i in range(0,2500,1):\n",
        "  ttt = np.dot "
      ],
      "execution_count": null,
      "outputs": [
        {
          "output_type": "execute_result",
          "data": {
            "text/plain": [
              "0.5"
            ]
          },
          "metadata": {
            "tags": []
          },
          "execution_count": 312
        }
      ]
    },
    {
      "cell_type": "markdown",
      "metadata": {
        "id": "_7JRWmmRCAyV",
        "colab_type": "text"
      },
      "source": [
        "## Arth TEST SVC Model"
      ]
    },
    {
      "cell_type": "code",
      "metadata": {
        "id": "WYXqdSq-CE8a",
        "colab_type": "code",
        "colab": {}
      },
      "source": [
        "def give_me_everything_to_test(author):\n",
        "  data = []\n",
        "  list_of_dicts= []\n",
        "  list_alpha = list(string.ascii_lowercase)\n",
        "  path = '/content/C50test/' + str(author) + '/*.txt'\n",
        "  for i, filepath in enumerate(glob.iglob(path)):\n",
        "      with open(filepath, 'r') as file:\n",
        "        read_file = file.read().replace('\\n', '')\n",
        "        clean_file = re.sub(r\"[^A-Za-z]+\", '', read_file)\n",
        "        arth = {} \n",
        "        for keys in clean_file.lower(): \n",
        "          arth[keys] = arth.get(keys, 0) + 1\n",
        "        for item in list_alpha:\n",
        "          if (item not in arth.keys()):\n",
        "            arth.update( {str(item) : 0} )\n",
        "        sorted_dict = {k: arth[k] for k in sorted(arth)}\n",
        "        list_of_dicts.append(sorted_dict)\n",
        "  return list_of_dicts"
      ],
      "execution_count": null,
      "outputs": []
    },
    {
      "cell_type": "code",
      "metadata": {
        "id": "1LLH3dHLGNel",
        "colab_type": "code",
        "colab": {}
      },
      "source": [
        "test_feature_final = pd.DataFrame()\n",
        "for author in master_author_list:\n",
        "  aut_df = give_me_everything_to_test(str(author))\n",
        "  aut_df = pd.DataFrame(aut_df)\n",
        "  frames = [test_feature_final, aut_df]\n",
        "  test_feature_final = pd.concat(frames)\n",
        "test_feature_final = test_feature_final.drop(columns={'a', 'e' ,'i' ,'o' ,'u'})"
      ],
      "execution_count": null,
      "outputs": []
    },
    {
      "cell_type": "code",
      "metadata": {
        "id": "xGkfbWYBzLsQ",
        "colab_type": "code",
        "colab": {
          "base_uri": "https://localhost:8080/",
          "height": 419
        },
        "outputId": "bd6acd4a-d56c-48f0-c03c-5ab8ad783f83"
      },
      "source": [
        "test_feature_final"
      ],
      "execution_count": null,
      "outputs": [
        {
          "output_type": "execute_result",
          "data": {
            "text/html": [
              "<div>\n",
              "<style scoped>\n",
              "    .dataframe tbody tr th:only-of-type {\n",
              "        vertical-align: middle;\n",
              "    }\n",
              "\n",
              "    .dataframe tbody tr th {\n",
              "        vertical-align: top;\n",
              "    }\n",
              "\n",
              "    .dataframe thead th {\n",
              "        text-align: right;\n",
              "    }\n",
              "</style>\n",
              "<table border=\"1\" class=\"dataframe\">\n",
              "  <thead>\n",
              "    <tr style=\"text-align: right;\">\n",
              "      <th></th>\n",
              "      <th>b</th>\n",
              "      <th>c</th>\n",
              "      <th>d</th>\n",
              "      <th>f</th>\n",
              "      <th>g</th>\n",
              "      <th>h</th>\n",
              "      <th>j</th>\n",
              "      <th>k</th>\n",
              "      <th>l</th>\n",
              "      <th>m</th>\n",
              "      <th>n</th>\n",
              "      <th>p</th>\n",
              "      <th>q</th>\n",
              "      <th>r</th>\n",
              "      <th>s</th>\n",
              "      <th>t</th>\n",
              "      <th>v</th>\n",
              "      <th>w</th>\n",
              "      <th>x</th>\n",
              "      <th>y</th>\n",
              "      <th>z</th>\n",
              "    </tr>\n",
              "  </thead>\n",
              "  <tbody>\n",
              "    <tr>\n",
              "      <th>0</th>\n",
              "      <td>36</td>\n",
              "      <td>45</td>\n",
              "      <td>69</td>\n",
              "      <td>57</td>\n",
              "      <td>30</td>\n",
              "      <td>80</td>\n",
              "      <td>6</td>\n",
              "      <td>13</td>\n",
              "      <td>95</td>\n",
              "      <td>48</td>\n",
              "      <td>132</td>\n",
              "      <td>36</td>\n",
              "      <td>2</td>\n",
              "      <td>130</td>\n",
              "      <td>127</td>\n",
              "      <td>200</td>\n",
              "      <td>12</td>\n",
              "      <td>37</td>\n",
              "      <td>4</td>\n",
              "      <td>25</td>\n",
              "      <td>0</td>\n",
              "    </tr>\n",
              "    <tr>\n",
              "      <th>1</th>\n",
              "      <td>46</td>\n",
              "      <td>68</td>\n",
              "      <td>62</td>\n",
              "      <td>54</td>\n",
              "      <td>30</td>\n",
              "      <td>83</td>\n",
              "      <td>4</td>\n",
              "      <td>16</td>\n",
              "      <td>125</td>\n",
              "      <td>51</td>\n",
              "      <td>137</td>\n",
              "      <td>50</td>\n",
              "      <td>0</td>\n",
              "      <td>146</td>\n",
              "      <td>117</td>\n",
              "      <td>215</td>\n",
              "      <td>25</td>\n",
              "      <td>36</td>\n",
              "      <td>3</td>\n",
              "      <td>27</td>\n",
              "      <td>0</td>\n",
              "    </tr>\n",
              "    <tr>\n",
              "      <th>2</th>\n",
              "      <td>48</td>\n",
              "      <td>73</td>\n",
              "      <td>94</td>\n",
              "      <td>44</td>\n",
              "      <td>91</td>\n",
              "      <td>122</td>\n",
              "      <td>3</td>\n",
              "      <td>34</td>\n",
              "      <td>92</td>\n",
              "      <td>64</td>\n",
              "      <td>217</td>\n",
              "      <td>46</td>\n",
              "      <td>3</td>\n",
              "      <td>171</td>\n",
              "      <td>184</td>\n",
              "      <td>286</td>\n",
              "      <td>41</td>\n",
              "      <td>80</td>\n",
              "      <td>6</td>\n",
              "      <td>50</td>\n",
              "      <td>1</td>\n",
              "    </tr>\n",
              "    <tr>\n",
              "      <th>3</th>\n",
              "      <td>66</td>\n",
              "      <td>123</td>\n",
              "      <td>119</td>\n",
              "      <td>62</td>\n",
              "      <td>51</td>\n",
              "      <td>146</td>\n",
              "      <td>2</td>\n",
              "      <td>36</td>\n",
              "      <td>164</td>\n",
              "      <td>82</td>\n",
              "      <td>241</td>\n",
              "      <td>85</td>\n",
              "      <td>0</td>\n",
              "      <td>212</td>\n",
              "      <td>266</td>\n",
              "      <td>381</td>\n",
              "      <td>52</td>\n",
              "      <td>65</td>\n",
              "      <td>10</td>\n",
              "      <td>59</td>\n",
              "      <td>3</td>\n",
              "    </tr>\n",
              "    <tr>\n",
              "      <th>4</th>\n",
              "      <td>36</td>\n",
              "      <td>49</td>\n",
              "      <td>92</td>\n",
              "      <td>39</td>\n",
              "      <td>40</td>\n",
              "      <td>74</td>\n",
              "      <td>4</td>\n",
              "      <td>20</td>\n",
              "      <td>108</td>\n",
              "      <td>50</td>\n",
              "      <td>156</td>\n",
              "      <td>54</td>\n",
              "      <td>0</td>\n",
              "      <td>152</td>\n",
              "      <td>144</td>\n",
              "      <td>162</td>\n",
              "      <td>27</td>\n",
              "      <td>32</td>\n",
              "      <td>7</td>\n",
              "      <td>37</td>\n",
              "      <td>3</td>\n",
              "    </tr>\n",
              "    <tr>\n",
              "      <th>...</th>\n",
              "      <td>...</td>\n",
              "      <td>...</td>\n",
              "      <td>...</td>\n",
              "      <td>...</td>\n",
              "      <td>...</td>\n",
              "      <td>...</td>\n",
              "      <td>...</td>\n",
              "      <td>...</td>\n",
              "      <td>...</td>\n",
              "      <td>...</td>\n",
              "      <td>...</td>\n",
              "      <td>...</td>\n",
              "      <td>...</td>\n",
              "      <td>...</td>\n",
              "      <td>...</td>\n",
              "      <td>...</td>\n",
              "      <td>...</td>\n",
              "      <td>...</td>\n",
              "      <td>...</td>\n",
              "      <td>...</td>\n",
              "      <td>...</td>\n",
              "    </tr>\n",
              "    <tr>\n",
              "      <th>45</th>\n",
              "      <td>78</td>\n",
              "      <td>90</td>\n",
              "      <td>118</td>\n",
              "      <td>65</td>\n",
              "      <td>62</td>\n",
              "      <td>129</td>\n",
              "      <td>17</td>\n",
              "      <td>62</td>\n",
              "      <td>137</td>\n",
              "      <td>59</td>\n",
              "      <td>264</td>\n",
              "      <td>57</td>\n",
              "      <td>3</td>\n",
              "      <td>156</td>\n",
              "      <td>194</td>\n",
              "      <td>246</td>\n",
              "      <td>30</td>\n",
              "      <td>42</td>\n",
              "      <td>3</td>\n",
              "      <td>34</td>\n",
              "      <td>0</td>\n",
              "    </tr>\n",
              "    <tr>\n",
              "      <th>46</th>\n",
              "      <td>23</td>\n",
              "      <td>126</td>\n",
              "      <td>119</td>\n",
              "      <td>74</td>\n",
              "      <td>41</td>\n",
              "      <td>124</td>\n",
              "      <td>10</td>\n",
              "      <td>31</td>\n",
              "      <td>115</td>\n",
              "      <td>95</td>\n",
              "      <td>224</td>\n",
              "      <td>58</td>\n",
              "      <td>1</td>\n",
              "      <td>171</td>\n",
              "      <td>245</td>\n",
              "      <td>286</td>\n",
              "      <td>35</td>\n",
              "      <td>50</td>\n",
              "      <td>6</td>\n",
              "      <td>35</td>\n",
              "      <td>1</td>\n",
              "    </tr>\n",
              "    <tr>\n",
              "      <th>47</th>\n",
              "      <td>47</td>\n",
              "      <td>91</td>\n",
              "      <td>133</td>\n",
              "      <td>63</td>\n",
              "      <td>41</td>\n",
              "      <td>94</td>\n",
              "      <td>11</td>\n",
              "      <td>34</td>\n",
              "      <td>103</td>\n",
              "      <td>113</td>\n",
              "      <td>278</td>\n",
              "      <td>65</td>\n",
              "      <td>0</td>\n",
              "      <td>193</td>\n",
              "      <td>284</td>\n",
              "      <td>277</td>\n",
              "      <td>31</td>\n",
              "      <td>43</td>\n",
              "      <td>2</td>\n",
              "      <td>35</td>\n",
              "      <td>2</td>\n",
              "    </tr>\n",
              "    <tr>\n",
              "      <th>48</th>\n",
              "      <td>40</td>\n",
              "      <td>141</td>\n",
              "      <td>141</td>\n",
              "      <td>66</td>\n",
              "      <td>45</td>\n",
              "      <td>123</td>\n",
              "      <td>10</td>\n",
              "      <td>33</td>\n",
              "      <td>114</td>\n",
              "      <td>97</td>\n",
              "      <td>254</td>\n",
              "      <td>63</td>\n",
              "      <td>2</td>\n",
              "      <td>233</td>\n",
              "      <td>276</td>\n",
              "      <td>320</td>\n",
              "      <td>41</td>\n",
              "      <td>43</td>\n",
              "      <td>7</td>\n",
              "      <td>48</td>\n",
              "      <td>2</td>\n",
              "    </tr>\n",
              "    <tr>\n",
              "      <th>49</th>\n",
              "      <td>49</td>\n",
              "      <td>106</td>\n",
              "      <td>105</td>\n",
              "      <td>55</td>\n",
              "      <td>80</td>\n",
              "      <td>108</td>\n",
              "      <td>13</td>\n",
              "      <td>33</td>\n",
              "      <td>117</td>\n",
              "      <td>92</td>\n",
              "      <td>239</td>\n",
              "      <td>70</td>\n",
              "      <td>0</td>\n",
              "      <td>207</td>\n",
              "      <td>244</td>\n",
              "      <td>261</td>\n",
              "      <td>24</td>\n",
              "      <td>57</td>\n",
              "      <td>6</td>\n",
              "      <td>60</td>\n",
              "      <td>0</td>\n",
              "    </tr>\n",
              "  </tbody>\n",
              "</table>\n",
              "<p>2500 rows × 21 columns</p>\n",
              "</div>"
            ],
            "text/plain": [
              "     b    c    d   f   g    h   j   k    l  ...  q    r    s    t   v   w   x   y  z\n",
              "0   36   45   69  57  30   80   6  13   95  ...  2  130  127  200  12  37   4  25  0\n",
              "1   46   68   62  54  30   83   4  16  125  ...  0  146  117  215  25  36   3  27  0\n",
              "2   48   73   94  44  91  122   3  34   92  ...  3  171  184  286  41  80   6  50  1\n",
              "3   66  123  119  62  51  146   2  36  164  ...  0  212  266  381  52  65  10  59  3\n",
              "4   36   49   92  39  40   74   4  20  108  ...  0  152  144  162  27  32   7  37  3\n",
              "..  ..  ...  ...  ..  ..  ...  ..  ..  ...  ... ..  ...  ...  ...  ..  ..  ..  .. ..\n",
              "45  78   90  118  65  62  129  17  62  137  ...  3  156  194  246  30  42   3  34  0\n",
              "46  23  126  119  74  41  124  10  31  115  ...  1  171  245  286  35  50   6  35  1\n",
              "47  47   91  133  63  41   94  11  34  103  ...  0  193  284  277  31  43   2  35  2\n",
              "48  40  141  141  66  45  123  10  33  114  ...  2  233  276  320  41  43   7  48  2\n",
              "49  49  106  105  55  80  108  13  33  117  ...  0  207  244  261  24  57   6  60  0\n",
              "\n",
              "[2500 rows x 21 columns]"
            ]
          },
          "metadata": {
            "tags": []
          },
          "execution_count": 307
        }
      ]
    },
    {
      "cell_type": "code",
      "metadata": {
        "id": "uFHHf5i4IYbz",
        "colab_type": "code",
        "colab": {}
      },
      "source": [
        "transformed_test_df = scaler.transform(test_feature_final)"
      ],
      "execution_count": null,
      "outputs": []
    },
    {
      "cell_type": "code",
      "metadata": {
        "id": "Idac9PV3JuDl",
        "colab_type": "code",
        "colab": {}
      },
      "source": [
        "fin_temp = []\n",
        "for i in range(0,50,1):\n",
        "  for j in range(0,50,1):\n",
        "    fin_temp.append(i) "
      ],
      "execution_count": null,
      "outputs": []
    },
    {
      "cell_type": "code",
      "metadata": {
        "id": "Kg_7I2Q-qpYM",
        "colab_type": "code",
        "colab": {}
      },
      "source": [
        "#insert model random forest, svm etc\n",
        "\n",
        "# for Example\n",
        "\n",
        "\n",
        "# from sklearn.svm import SVC\n",
        "\n",
        "# clf_new = SVC(gamma='auto')\n",
        "# clf_new.fit(X_train, y_test)"
      ],
      "execution_count": null,
      "outputs": []
    },
    {
      "cell_type": "code",
      "metadata": {
        "id": "15gOZ6NGIdhl",
        "colab_type": "code",
        "colab": {}
      },
      "source": [
        "y_pred = clf.predict(transformed_test_df)"
      ],
      "execution_count": null,
      "outputs": []
    },
    {
      "cell_type": "code",
      "metadata": {
        "id": "uIUGd86MEfFi",
        "colab_type": "code",
        "colab": {
          "base_uri": "https://localhost:8080/",
          "height": 34
        },
        "outputId": "79e3bcfa-5798-450a-a590-d5f285cd2bfb"
      },
      "source": [
        "(fin_temp == y_pred).sum()/ len(fin_temp)"
      ],
      "execution_count": null,
      "outputs": [
        {
          "output_type": "execute_result",
          "data": {
            "text/plain": [
              "0.1288"
            ]
          },
          "metadata": {
            "tags": []
          },
          "execution_count": 225
        }
      ]
    },
    {
      "cell_type": "markdown",
      "metadata": {
        "id": "VGMKo4iFMnhp",
        "colab_type": "text"
      },
      "source": [
        "## new training approach"
      ]
    },
    {
      "cell_type": "code",
      "metadata": {
        "id": "uGIKyfNzMsNT",
        "colab_type": "code",
        "colab": {}
      },
      "source": [
        "def give_me_everything_to_train(author):\n",
        "  data = []\n",
        "  list_of_dicts= []\n",
        "  list_alpha = list(string.ascii_lowercase)\n",
        "  path = '/content/C50train/' + str(author) + '/*.txt'\n",
        "  for i, filepath in enumerate(glob.iglob(path)):\n",
        "      with open(filepath, 'r') as file:\n",
        "        read_file = file.read().replace('\\n', '')\n",
        "        clean_file = re.sub(r\"[^A-Za-z]+\", '', read_file)\n",
        "        arth = {} \n",
        "        for keys in clean_file.lower(): \n",
        "          arth[keys] = arth.get(keys, 0) + 1\n",
        "        for item in list_alpha:\n",
        "          if (item not in arth.keys()):\n",
        "            arth.update( {str(item) : 0} )\n",
        "        sorted_dict = {k: arth[k] for k in sorted(arth)}\n",
        "        list_of_dicts.append(sorted_dict)\n",
        "  return list_of_dicts\n",
        "\n",
        "train_feature_final = 0\n",
        "train_feature_final = pd.DataFrame()\n",
        "for author in master_author_list:\n",
        "  aut_df = give_me_everything_to_train(str(author))\n",
        "  aut_df = pd.DataFrame(aut_df)\n",
        "  frames = [test_feature_final, aut_df]\n",
        "  train_feature_final = pd.concat(frames)"
      ],
      "execution_count": null,
      "outputs": []
    },
    {
      "cell_type": "code",
      "metadata": {
        "id": "A5jz-R5yMsJO",
        "colab_type": "code",
        "colab": {}
      },
      "source": [
        "scaler = StandardScaler()\n",
        "scaler.fit(train_feature_final)\n",
        "# print(scaler.mean_)\n",
        "\n",
        "transformed_train_df = scaler.transform(train_feature_final)"
      ],
      "execution_count": null,
      "outputs": []
    },
    {
      "cell_type": "markdown",
      "metadata": {
        "id": "-5UXewOpKsFI",
        "colab_type": "text"
      },
      "source": [
        "## K means"
      ]
    },
    {
      "cell_type": "code",
      "metadata": {
        "id": "tvcvEHUyK919",
        "colab_type": "code",
        "colab": {}
      },
      "source": [
        "# train \n",
        "X_train = transformed_train_df\n",
        "y_train = range(0,50,1)\n",
        "#test\n",
        "X_test = transformed_test_df\n",
        "y_test = fin_temp"
      ],
      "execution_count": null,
      "outputs": []
    },
    {
      "cell_type": "code",
      "metadata": {
        "id": "30paqvczLUud",
        "colab_type": "code",
        "colab": {}
      },
      "source": [
        "from sklearn.cluster import KMeans\n",
        "kmeans = KMeans(n_clusters=26, init='k-means++',  n_init = 20, random_state=0).fit(X_train)"
      ],
      "execution_count": null,
      "outputs": []
    },
    {
      "cell_type": "code",
      "metadata": {
        "id": "w8k0e4mELyjv",
        "colab_type": "code",
        "colab": {
          "base_uri": "https://localhost:8080/",
          "height": 34
        },
        "outputId": "d948a008-e388-4866-b952-2683011d533e"
      },
      "source": [
        "y_predict_k = kmeans.predict(X_test)\n",
        "(y_test == y_predict_k).sum()/ len(y_test)"
      ],
      "execution_count": null,
      "outputs": [
        {
          "output_type": "execute_result",
          "data": {
            "text/plain": [
              "0.014"
            ]
          },
          "metadata": {
            "tags": []
          },
          "execution_count": 315
        }
      ]
    },
    {
      "cell_type": "code",
      "metadata": {
        "id": "mJJ_-ftynr3P",
        "colab_type": "code",
        "colab": {
          "base_uri": "https://localhost:8080/",
          "height": 34
        },
        "outputId": "eb99c2e9-e9af-44b0-cb98-756f9544c74a"
      },
      "source": [
        "(X_train.shape, len(y_test))"
      ],
      "execution_count": null,
      "outputs": [
        {
          "output_type": "execute_result",
          "data": {
            "text/plain": [
              "((2550, 26), 2500)"
            ]
          },
          "metadata": {
            "tags": []
          },
          "execution_count": 263
        }
      ]
    },
    {
      "cell_type": "code",
      "metadata": {
        "id": "DCPcFHqFMEI5",
        "colab_type": "code",
        "colab": {}
      },
      "source": [
        "c"
      ],
      "execution_count": null,
      "outputs": []
    },
    {
      "cell_type": "code",
      "metadata": {
        "id": "wTYsGYLknUVh",
        "colab_type": "code",
        "colab": {}
      },
      "source": [
        "y_predict_svm = clf_new.predict(X_test)\n",
        "(y_test == y_predict_svm).sum()/ len(y_test)"
      ],
      "execution_count": null,
      "outputs": []
    },
    {
      "cell_type": "markdown",
      "metadata": {
        "id": "G72Nq2rL-nnO",
        "colab_type": "text"
      },
      "source": [
        "## TF - IDF Approach..."
      ]
    },
    {
      "cell_type": "code",
      "metadata": {
        "id": "8FW3JNXy7yPc",
        "colab_type": "code",
        "colab": {}
      },
      "source": [
        "!pip install num2words\n",
        "from nltk.corpus import stopwords\n",
        "from nltk.tokenize import word_tokenize\n",
        "from nltk.stem import PorterStemmer\n",
        "from collections import Counter\n",
        "import num2words\n",
        "\n",
        "import nltk\n",
        "import os\n",
        "import string\n",
        "import numpy as np\n",
        "import copy\n",
        "import pandas as pd\n",
        "import pickle\n",
        "import re\n",
        "import math\n",
        "\n",
        "# %load_ext autotime"
      ],
      "execution_count": null,
      "outputs": []
    },
    {
      "cell_type": "code",
      "metadata": {
        "id": "a71ZarIl7AdQ",
        "colab_type": "code",
        "colab": {}
      },
      "source": [
        "def convert_lower_case(data):\n",
        "    return np.char.lower(data)"
      ],
      "execution_count": null,
      "outputs": []
    },
    {
      "cell_type": "code",
      "metadata": {
        "id": "np4uwFwg78LZ",
        "colab_type": "code",
        "colab": {}
      },
      "source": [
        "def remove_stop_words(data):\n",
        "    stop_words = stopwords.words('english')\n",
        "    words = word_tokenize(str(data))\n",
        "    new_text = \"\"\n",
        "    for w in words:\n",
        "        if w not in stop_words and len(w) > 1:\n",
        "            new_text = new_text + \" \" + w\n",
        "    return new_text"
      ],
      "execution_count": null,
      "outputs": []
    },
    {
      "cell_type": "code",
      "metadata": {
        "id": "UzuxK9Dr8AP4",
        "colab_type": "code",
        "colab": {}
      },
      "source": [
        "def remove_punctuation(data):\n",
        "    symbols = \"!\\\"#$%&()*+-./:;<=>?@[\\]^_`{|}~\\n\"\n",
        "    for i in range(len(symbols)):\n",
        "        data = np.char.replace(data, symbols[i], ' ')\n",
        "        data = np.char.replace(data, \"  \", \" \")\n",
        "    data = np.char.replace(data, ',', '')\n",
        "    return data"
      ],
      "execution_count": null,
      "outputs": []
    },
    {
      "cell_type": "code",
      "metadata": {
        "id": "FqKpOOCs8B3T",
        "colab_type": "code",
        "colab": {}
      },
      "source": [
        "def remove_apostrophe(data):\n",
        "    return np.char.replace(data, \"'\", \"\")"
      ],
      "execution_count": null,
      "outputs": []
    },
    {
      "cell_type": "code",
      "metadata": {
        "id": "SnYiuGHA8Bwc",
        "colab_type": "code",
        "colab": {}
      },
      "source": [
        "def stemming(data):\n",
        "    stemmer= PorterStemmer()\n",
        "    \n",
        "    tokens = word_tokenize(str(data))\n",
        "    new_text = \"\"\n",
        "    for w in tokens:\n",
        "        new_text = new_text + \" \" + stemmer.stem(w)\n",
        "    return new_text"
      ],
      "execution_count": null,
      "outputs": []
    },
    {
      "cell_type": "code",
      "metadata": {
        "id": "h5STaAiC8Bp3",
        "colab_type": "code",
        "colab": {}
      },
      "source": [
        "def convert_numbers(data):\n",
        "    tokens = word_tokenize(str(data))\n",
        "    new_text = \"\"\n",
        "    for w in tokens:\n",
        "        try:\n",
        "            w = num2words(int(w))\n",
        "        except:\n",
        "            a = 0\n",
        "        new_text = new_text + \" \" + w\n",
        "    new_text = np.char.replace(new_text, \"-\", \" \")\n",
        "    return new_text"
      ],
      "execution_count": null,
      "outputs": []
    },
    {
      "cell_type": "code",
      "metadata": {
        "id": "35hwxQnX8Ax6",
        "colab_type": "code",
        "colab": {}
      },
      "source": [
        "def preprocess(data):\n",
        "    data = convert_lower_case(data)\n",
        "    data = remove_punctuation(data) #remove comma seperately\n",
        "    data = remove_apostrophe(data)\n",
        "    data = remove_stop_words(data)\n",
        "    data = convert_numbers(data)\n",
        "    data = stemming(data)\n",
        "    data = remove_punctuation(data)\n",
        "    data = convert_numbers(data)\n",
        "    data = stemming(data) #needed again as we need to stem the words\n",
        "    data = remove_punctuation(data) #needed again as num2word is giving few hypens and commas fourty-one\n",
        "    data = remove_stop_words(data) #needed again as num2word is giving stop words 101 - one hundred and one\n",
        "    return data"
      ],
      "execution_count": null,
      "outputs": []
    },
    {
      "cell_type": "code",
      "metadata": {
        "id": "v7CrIc238BHz",
        "colab_type": "code",
        "colab": {}
      },
      "source": [
        "\n",
        "for i in dataset[:N]:\n",
        "    file = open(i[0], 'r', encoding=\"utf8\", errors='ignore')\n",
        "    text = file.read().strip()\n",
        "    file.close()\n",
        "\n",
        "    processed_text.append(word_tokenize(str(preprocess(text))))\n",
        "    processed_title.append(word_tokenize(str(preprocess(i[1]))))"
      ],
      "execution_count": null,
      "outputs": []
    }
  ]
}