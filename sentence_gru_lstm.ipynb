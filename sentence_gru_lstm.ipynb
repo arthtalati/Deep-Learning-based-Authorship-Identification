{
  "nbformat": 4,
  "nbformat_minor": 0,
  "metadata": {
    "colab": {
      "name": "sentence_gru_lstm.ipynb",
      "provenance": [],
      "collapsed_sections": []
    },
    "kernelspec": {
      "name": "python3",
      "display_name": "Python 3"
    },
    "accelerator": "GPU"
  },
  "cells": [
    {
      "cell_type": "code",
      "metadata": {
        "id": "P_kCQZU6n29u",
        "colab_type": "code",
        "colab": {}
      },
      "source": [
        "import pandas as pd\n",
        "import numpy as np\n",
        "import os\n",
        "import dill\n",
        "import pandas as pd\n",
        "import glob, csv\n",
        "import nltk\n",
        "from nltk.stem import WordNetLemmatizer \n",
        "nltk.download('wordnet')\n",
        "nltk.download('punkt')\n",
        "lemmatizer = WordNetLemmatizer()\n",
        "\n",
        "\n",
        "import matplotlib.pyplot as plt\n",
        "from matplotlib.pyplot import figure\n",
        "import numpy as np\n",
        "import re\n",
        "import string\n",
        "import seaborn as sns\n",
        "from sklearn.preprocessing import StandardScaler"
      ],
      "execution_count": 0,
      "outputs": []
    },
    {
      "cell_type": "code",
      "metadata": {
        "id": "_o9h-tZyn-NT",
        "colab_type": "code",
        "colab": {}
      },
      "source": [
        "from google.colab import drive\n",
        "drive.mount('/content/drive')"
      ],
      "execution_count": 0,
      "outputs": []
    },
    {
      "cell_type": "code",
      "metadata": {
        "id": "n2k4aGWan-J9",
        "colab_type": "code",
        "colab": {}
      },
      "source": [
        "!unzip '/content/C50.zip'"
      ],
      "execution_count": 0,
      "outputs": []
    },
    {
      "cell_type": "markdown",
      "metadata": {
        "id": "3FjEsTVEoE5e",
        "colab_type": "text"
      },
      "source": [
        "Train preprocess"
      ]
    },
    {
      "cell_type": "code",
      "metadata": {
        "id": "ADMmGP-on-Hg",
        "colab_type": "code",
        "colab": {}
      },
      "source": [
        "train_file_df = pd.DataFrame()\n",
        "temp_df = pd.DataFrame()\n",
        "for i, filepath in enumerate(glob.iglob('/content/C50train/*/*.txt')):\n",
        "    print('Analysing', i , ' -> ', ' of Author ', str(filepath.split(\"/\")[3]))\n",
        "    temp_df = pd.read_csv(filepath, delimiter=\"\\t\", header = None, error_bad_lines=False, quoting = csv.QUOTE_NONE, encoding='utf-8')\n",
        "    temp_df['Author'] = filepath.split(\"/\")[3]\n",
        "    temp_frame = [train_file_df, temp_df]\n",
        "    train_file_df = pd.concat(temp_frame)\n",
        "    \n",
        "train_file_df = train_file_df.rename(columns={ 0 : 'text'})"
      ],
      "execution_count": 0,
      "outputs": []
    },
    {
      "cell_type": "code",
      "metadata": {
        "id": "Lzjm5W-zn9-1",
        "colab_type": "code",
        "colab": {}
      },
      "source": [
        "train_file_df.head()"
      ],
      "execution_count": 0,
      "outputs": []
    },
    {
      "cell_type": "markdown",
      "metadata": {
        "id": "oSnKJHg39f37",
        "colab_type": "text"
      },
      "source": [
        "Create new col with author number mappings for ML"
      ]
    },
    {
      "cell_type": "code",
      "metadata": {
        "id": "ezG_wSJpoPRg",
        "colab_type": "code",
        "colab": {}
      },
      "source": [
        "# create new col with author number mappings for ML\n",
        "auth_sort = sorted(train_file_df['Author'].unique())\n",
        "dictOfAuthors = { i : auth_sort[i] for i in range(0, len(auth_sort) ) }\n",
        "swap_dict = {value:key for key, value in dictOfAuthors.items()}\n",
        "train_file_df['Author_num'] = train_file_df['Author'].map(swap_dict)\n",
        "train_file_df"
      ],
      "execution_count": 0,
      "outputs": []
    },
    {
      "cell_type": "markdown",
      "metadata": {
        "id": "98rpD2VuoRwA",
        "colab_type": "text"
      },
      "source": [
        "Test Preprocess"
      ]
    },
    {
      "cell_type": "code",
      "metadata": {
        "id": "cwoApETJoPOK",
        "colab_type": "code",
        "colab": {}
      },
      "source": [
        "test_file_df = pd.DataFrame()\n",
        "temp_df = pd.DataFrame()\n",
        "for i, filepath in enumerate(glob.iglob('/content/C50test/*/*.txt')):\n",
        "    print('Analysing', i , ' -> ', ' of Author ', str(filepath.split(\"/\")[3]))\n",
        "    temp_df = pd.read_csv(filepath, delimiter=\"\\t\", header = None, error_bad_lines=False, quoting = csv.QUOTE_NONE, encoding='utf-8')\n",
        "    temp_df['Author'] = filepath.split(\"/\")[3]\n",
        "    temp_frame = [test_file_df, temp_df]\n",
        "    test_file_df = pd.concat(temp_frame)\n",
        "    \n",
        "test_file_df = test_file_df.rename(columns={ 0 : 'text'})\n",
        "test_file_df.head(3)"
      ],
      "execution_count": 0,
      "outputs": []
    },
    {
      "cell_type": "code",
      "metadata": {
        "id": "IW97mS7ZoalI",
        "colab_type": "code",
        "colab": {}
      },
      "source": [
        "test_file_df['Author_num'] = test_file_df['Author'].map(swap_dict)"
      ],
      "execution_count": 0,
      "outputs": []
    },
    {
      "cell_type": "code",
      "metadata": {
        "id": "veTN469kRB1p",
        "colab_type": "code",
        "colab": {}
      },
      "source": [
        "train_file_df"
      ],
      "execution_count": 0,
      "outputs": []
    },
    {
      "cell_type": "markdown",
      "metadata": {
        "id": "TQ90iFqdOGpu",
        "colab_type": "text"
      },
      "source": [
        "## Choosen"
      ]
    },
    {
      "cell_type": "code",
      "metadata": {
        "id": "4N2vp3FSGQUT",
        "colab_type": "code",
        "colab": {}
      },
      "source": [
        "test_file_df = test_file_df.drop(columns='Author')\n",
        "train_file_df = train_file_df.drop(columns='Author')"
      ],
      "execution_count": 0,
      "outputs": []
    },
    {
      "cell_type": "code",
      "metadata": {
        "id": "bCQzDoAannB0",
        "colab_type": "code",
        "colab": {}
      },
      "source": [
        "train_file_df.head()"
      ],
      "execution_count": 0,
      "outputs": []
    },
    {
      "cell_type": "code",
      "metadata": {
        "id": "lqaqTzGvJrM7",
        "colab_type": "code",
        "colab": {}
      },
      "source": [
        "list_to_choose_test = test_file_df.text.apply(lambda x : len(x)) > 0 \n",
        "test_file_df_choosen = test_file_df[list_to_choose_test]"
      ],
      "execution_count": 0,
      "outputs": []
    },
    {
      "cell_type": "code",
      "metadata": {
        "id": "s_96miMNI7u6",
        "colab_type": "code",
        "colab": {}
      },
      "source": [
        "list_to_choose_train = train_file_df.text.apply(lambda x : len(x)) > 0 \n",
        "train_file_df_choosen = train_file_df[list_to_choose_train]"
      ],
      "execution_count": 0,
      "outputs": []
    },
    {
      "cell_type": "markdown",
      "metadata": {
        "id": "RFm-MJLvJmfx",
        "colab_type": "text"
      },
      "source": [
        "csv save"
      ]
    },
    {
      "cell_type": "code",
      "metadata": {
        "id": "GeRJ3Y7ArIc4",
        "colab_type": "code",
        "colab": {}
      },
      "source": [
        "train_file_df_choosen.to_csv(r'/content/drive/My Drive/CIS 519/Project/train_choosen.csv', index = False)"
      ],
      "execution_count": 0,
      "outputs": []
    },
    {
      "cell_type": "code",
      "metadata": {
        "id": "B22BFtYCr50R",
        "colab_type": "code",
        "colab": {}
      },
      "source": [
        "test_file_df_choosen.to_csv(r'/content/drive/My Drive/CIS 519/Project/test_choosen.csv', index = False)"
      ],
      "execution_count": 0,
      "outputs": []
    },
    {
      "cell_type": "code",
      "metadata": {
        "id": "Z6ON2-QgqEZ_",
        "colab_type": "code",
        "colab": {}
      },
      "source": [
        "import torch\n",
        "from torchtext import data\n",
        "TEXT = data.Field(sequential=True, tokenize=\"spacy\", lower=True, include_lengths=True)\n",
        "SCORE = data.Field(sequential=False, use_vocab=False)"
      ],
      "execution_count": 0,
      "outputs": []
    },
    {
      "cell_type": "code",
      "metadata": {
        "id": "u3XsWmBHyQoo",
        "colab_type": "code",
        "colab": {}
      },
      "source": [
        "train_file_df_choosen"
      ],
      "execution_count": 0,
      "outputs": []
    },
    {
      "cell_type": "markdown",
      "metadata": {
        "id": "JV19MOqi9zOO",
        "colab_type": "text"
      },
      "source": [
        "**Datafields**"
      ]
    },
    {
      "cell_type": "code",
      "metadata": {
        "id": "pF7Lnd4mo3PX",
        "colab_type": "code",
        "colab": {}
      },
      "source": [
        "datafields = [(\"text\", TEXT),\n",
        "              (\"Author_num\", SCORE)]\n",
        "\n",
        "train= data.TabularDataset(\n",
        "    path='/content/drive/My Drive/CIS 519/Project/train_choosen.csv', \n",
        "    format='csv',fields=datafields,skip_header = True)\n",
        "\n",
        "val = data.TabularDataset(\n",
        "    path='/content/drive/My Drive/CIS 519/Project/test_choosen.csv', \n",
        "    format='csv',fields=datafields,skip_header = True)"
      ],
      "execution_count": 0,
      "outputs": []
    },
    {
      "cell_type": "markdown",
      "metadata": {
        "id": "L0AoTVSv6pQJ",
        "colab_type": "text"
      },
      "source": [
        "**GloVe Implementation**"
      ]
    },
    {
      "cell_type": "code",
      "metadata": {
        "id": "WH7Iz--jsRkS",
        "colab_type": "code",
        "colab": {}
      },
      "source": [
        "from torchtext import vocab\n",
        "from torchtext.vocab import GloVe\n",
        "TEXT.build_vocab(train, val, min_freq = 3, vectors=GloVe(name='6B', dim=100))"
      ],
      "execution_count": 0,
      "outputs": []
    },
    {
      "cell_type": "markdown",
      "metadata": {
        "id": "zmLn5GW66sDG",
        "colab_type": "text"
      },
      "source": [
        "##Iterators"
      ]
    },
    {
      "cell_type": "code",
      "metadata": {
        "id": "03Jic_6d0Oj-",
        "colab_type": "code",
        "colab": {}
      },
      "source": [
        "device = torch.device('cuda:0')\n",
        "BATCH_SIZE = 64\n",
        "train_iterator = data.BucketIterator(\n",
        "    train, \n",
        "    batch_size = BATCH_SIZE,\n",
        "    sort_key = lambda x: len(x.text),\n",
        "    sort_within_batch = True,\n",
        "    repeat=False, \n",
        "    shuffle=True,\n",
        "    device = device)\n",
        "\n",
        "val_iterator = data.BucketIterator(\n",
        "    val, \n",
        "    batch_size = BATCH_SIZE,\n",
        "    sort=False,\n",
        "    sort_key = lambda x: len(x.text),\n",
        "    sort_within_batch = True,\n",
        "    repeat=False, \n",
        "    shuffle=False,\n",
        "    device = device)"
      ],
      "execution_count": 0,
      "outputs": []
    },
    {
      "cell_type": "code",
      "metadata": {
        "id": "lyiFXjb86kjq",
        "colab_type": "code",
        "colab": {}
      },
      "source": [
        "import os\n",
        "import torch\n",
        "import torch.nn as nn\n",
        "import torch.nn.functional as F\n",
        "import random\n",
        "import numpy as np\n",
        "import matplotlib\n",
        "import pandas as pd\n",
        "import dill\n",
        "import random\n",
        "import torch.optim as optim\n",
        "import matplotlib.pyplot as plt"
      ],
      "execution_count": 0,
      "outputs": []
    },
    {
      "cell_type": "markdown",
      "metadata": {
        "id": "h0BMgXMZ7XFg",
        "colab_type": "text"
      },
      "source": [
        "**Network** Architecture"
      ]
    },
    {
      "cell_type": "code",
      "metadata": {
        "id": "HSYaBTAL7WPF",
        "colab_type": "code",
        "colab": {}
      },
      "source": [
        "class AuthorClassifier(nn.Module):\n",
        "\n",
        "\n",
        "    def __init__(self, mode, output_size, hidden_size, vocab_size, embedding_length, word_embeddings):\n",
        "      super(AuthorClassifier, self).__init__()\n",
        "\n",
        "      if mode not in ['rnn', 'lstm', 'gru', 'bilstm']:\n",
        "        raise ValueError(\"Choose a mode from - rnn / lstm / gru / bilstm\")\n",
        "\n",
        "      self.mode = mode\n",
        "      self.output_size = output_size\n",
        "      self.hidden_size = hidden_size\n",
        "      self.vocab_size = vocab_size\n",
        "      self.embedding_length = embedding_length\n",
        "      self.embedding = nn.Embedding(self.vocab_size,self.embedding_length)\n",
        "      self.embedding.weight = nn.Parameter(word_embeddings,requires_grad = False)\n",
        "\n",
        " \n",
        "      if self.mode == 'rnn':\n",
        "        self.network = nn.RNN(self.embedding_length,self.hidden_size)\n",
        "      elif self.mode == 'lstm':\n",
        "        self.network = nn.LSTM(self.embedding_length,self.hidden_size)\n",
        "      elif self.mode == 'gru':\n",
        "        self.network = nn.GRU(self.embedding_length,self.hidden_size)\n",
        "      elif self.mode == 'bilstm':\n",
        "        self.network = nn.LSTM(self.embedding_length,self.hidden_size,bidirectional = True)\n",
        "      self.fclayer = nn.Linear(self.hidden_size,self.output_size)\n",
        "      \n",
        "\n",
        "    def forward(self, text, text_lengths):\n",
        "      text_embeddings = self.embedding(text)\n",
        "      pack_sequence = nn.utils.rnn.pack_padded_sequence(text_embeddings,text_lengths)\n",
        "\n",
        "      if self.mode in ('lstm','bilstm'):\n",
        "        a,(hidden,cell) = self.network(pack_sequence)\n",
        "        if self.mode == 'bilstm':\n",
        "          hidden = hidden[0,:,:]+ hidden[1,:,:]\n",
        "      else:\n",
        "        a,hidden = self.network(pack_sequence) \n",
        "      hidden = hidden.squeeze(0)\n",
        "      pred = self.fclayer(hidden)\n",
        "      return pred"
      ],
      "execution_count": 0,
      "outputs": []
    },
    {
      "cell_type": "markdown",
      "metadata": {
        "id": "Bm7vVUG6-MUU",
        "colab_type": "text"
      },
      "source": [
        "**Training and testing methods**"
      ]
    },
    {
      "cell_type": "code",
      "metadata": {
        "id": "S-XyNBt67tDR",
        "colab_type": "code",
        "colab": {}
      },
      "source": [
        "import sklearn\n",
        "import numpy as np\n",
        "import matplotlib.pyplot as plt\n",
        "from sklearn.model_selection import train_test_split\n",
        "from sklearn.metrics import plot_confusion_matrix\n",
        "\n",
        "def train_classifier(model, dataset_iterator, loss_function, optimizer, num_epochs, log = \"runs\", verbose = False, recurrent = True):\n",
        "  writer = SummaryWriter(log_dir=log)\n",
        "  model.train()\n",
        "  step = 0\n",
        "  f1score_train = []\n",
        "  loss_train = []\n",
        "  accuracy_train = []\n",
        "\n",
        "\n",
        "  for epoch in range(num_epochs):\n",
        "    correct = 0\n",
        "    total = 0\n",
        "    total_loss = 0\n",
        "    f1 = 0\n",
        "    f1_step = 0\n",
        "    \n",
        "    \n",
        "    for batch in dataset_iterator:\n",
        "      comment, comment_lengths = batch.text\n",
        "      labels = batch.Author_num\n",
        "\n",
        "      batch_size = len(labels)\n",
        "      optimizer.zero_grad()\n",
        "      output = model(comment, comment_lengths).squeeze(0)\n",
        "\n",
        "      loss = loss_function(output, labels.long())\n",
        "      loss.backward() \n",
        "      nn.utils.clip_grad_norm(model.parameters(),0.5)\n",
        "      optimizer.step()\n",
        "\n",
        "      pred = torch.max(output.data,1).indices\n",
        "      f1 += sklearn.metrics.f1_score((labels.cpu()).numpy(), (pred.cpu()).numpy(),average= 'macro')\n",
        "      correct += (torch.sum(pred == labels)).item()\n",
        "      total += len(labels)\n",
        "      total_loss += loss.item()\n",
        "      loss_total.append(total_loss/total)\n",
        "      f1_step += 1\n",
        "\n",
        "      if ((step % 100) == 0):\n",
        "        writer.add_scalar(\"Loss/train\", total_loss/total, step)\n",
        "        writer.add_scalar(\"Acc/train\", correct/total, step)\n",
        "        writer.add_scalar(\"F1 Score/train\", f1/f1_step, step)\n",
        "        \n",
        "      step = step+1\n",
        "    f1score_train.append(f1/f1_step)\n",
        "    accuracy_train.append(correct/total)\n",
        "    loss_train.append(total_loss/total)\n",
        "\n",
        "    print('---Training---',\"Epoch: %s Acc: %s Loss: %s\"%(epoch+1, correct/total, total_loss/total),'F1 Score:',f1/f1_step,)\n",
        "\n",
        "  return loss_train,f1score_train,accuracy_train\n",
        "\n",
        "def evaluate_classifier(model, dataset_iterator, loss_function, recurrent = True):\n",
        "  model.eval()\n",
        "\n",
        "  correct = 0\n",
        "  total = 0\n",
        "  total_loss = 0\n",
        "  overall_pred = []\n",
        "  overall_label = []\n",
        "  accuracy_test = []\n",
        "  loss_test = []\n",
        "\n",
        "  f1_step = 0\n",
        "  f1 = 0\n",
        "\n",
        "  for batch in dataset_iterator:\n",
        "    comment, comment_lengths = batch.text\n",
        "    labels = batch.Author_num\n",
        "    output = model(comment, comment_lengths).squeeze(0)\n",
        "    loss = loss_function(output, labels.long())\n",
        "    pred = torch.max(output.data,1).indices \n",
        "    correct += (torch.sum(pred == labels)).item()\n",
        "    total += len(labels)\n",
        "    total_loss += loss.item()\n",
        "    ap = pred.cpu()\n",
        "    a = np.asarray(ap)\n",
        "    labels = labels.cpu()\n",
        "    b = np.asarray(labels)\n",
        "    f1_step += 1\n",
        "    overall_pred.append(a)\n",
        "    overall_label.append(b)\n",
        "\n",
        "  overall_p= [val for sublist in overall_pred for val in sublist]\n",
        "  overall_l = [val for sublist in overall_label for val in sublist]\n",
        "  f1ss = sklearn.metrics.f1_score(overall_l,overall_p,average= 'macro')\n",
        "  accuracy_test.append(correct/total)\n",
        "  loss_test.append(total_loss/total)\n",
        "  print(\"Validation statistics: Acc: %s Loss: %s\"%(correct/total, total_loss/total),'F1 Score:',f1ss)\n",
        "  return overall_pred,overall_label,accuracy_test,loss_test,f1ss"
      ],
      "execution_count": 0,
      "outputs": []
    },
    {
      "cell_type": "markdown",
      "metadata": {
        "id": "jbU_TvFV-YXv",
        "colab_type": "text"
      },
      "source": [
        "**LSTM**"
      ]
    },
    {
      "cell_type": "code",
      "metadata": {
        "id": "q4uw1SWX8OXB",
        "colab_type": "code",
        "colab": {}
      },
      "source": [
        "import matplotlib.pyplot as plt\n",
        "import seaborn as sns\n",
        "from torch.utils.tensorboard import SummaryWriter\n",
        "\n",
        "output_size = 50\n",
        "hidden_size = 300\n",
        "vocab_size = len(TEXT.vocab)\n",
        "embedding_length = 100\n",
        "word_embeddings = TEXT.vocab.vectors\n",
        "num_epochs = 1\n",
        "mode = 'lstm'\n",
        "\n",
        "model = AuthorClassifier(mode, output_size, hidden_size, vocab_size, embedding_length, word_embeddings)\n",
        "model = model.to(device)\n",
        "\n",
        "\n",
        "loss_function = nn.CrossEntropyLoss()\n",
        "\n",
        "optimizer = torch.optim.Adam(model.parameters(), lr=1.25*1e-2)\n",
        "log_dir = 'runs/lstm1'\n",
        "final_acc_train_lstm = []\n",
        "final_loss_train_lstm = []\n",
        "final_loss_test_lstm = []\n",
        "final_acc_test_lstm = []\n",
        "final_f1score_train_lstm = []\n",
        "final_f1score_test_lstm = []\n",
        "\n",
        "\n",
        "for multi in range(20):\n",
        "  loss_train,f1score_train,accuracy_train = train_classifier(model, train_iterator, loss_function, optimizer, log = log_dir, num_epochs = num_epochs)\n",
        "  overall_pred,overall_label,accuracy_test,loss_test,f1ss = evaluate_classifier(model, val_iterator, loss_function)\n",
        "  final_acc_train_lstm.append(accuracy_train[0])\n",
        "  final_acc_test_lstm.append(accuracy_test[0])\n",
        "  final_f1score_train_lstm.append(f1score_train[0])\n",
        "  final_f1score_test_lstm.append(f1ss)\n",
        "  final_loss_train_lstm.append(loss_train[0])\n",
        "  final_loss_test_lstm.append(loss_test[0])\n",
        "\n",
        "\n",
        "cf = np.zeros((50,50))\n",
        "\n",
        "overall_pred = [val for sublist in overall_pred for val in sublist]\n",
        "\n",
        "overall_label = [val for sublist in overall_label for val in sublist]\n",
        "\n",
        "ziplist = list(zip(overall_label,overall_pred))\n",
        "for coordinate in ziplist:\n",
        "  cf[coordinate]+=1\n",
        "\n",
        "plt.figure(figsize = (20,20))\n",
        "ax = sns.heatmap(cf,annot=True)"
      ],
      "execution_count": 0,
      "outputs": []
    },
    {
      "cell_type": "markdown",
      "metadata": {
        "id": "y0Q3dPjn-hAA",
        "colab_type": "text"
      },
      "source": [
        "**GRU**"
      ]
    },
    {
      "cell_type": "code",
      "metadata": {
        "id": "fJHQzjx49TOZ",
        "colab_type": "code",
        "colab": {}
      },
      "source": [
        "import matplotlib.pyplot as plt\n",
        "import seaborn as sns\n",
        "\n",
        "from torch.utils.tensorboard import SummaryWriter\n",
        "\n",
        "\n",
        "output_size = 50\n",
        "hidden_size = 300\n",
        "vocab_size = len(TEXT.vocab)\n",
        "embedding_length = 100\n",
        "word_embeddings = TEXT.vocab.vectors\n",
        "num_epochs = 1\n",
        "mode = 'gru'\n",
        "\n",
        "model = AuthorClassifier(mode, output_size, hidden_size, vocab_size, embedding_length, word_embeddings)\n",
        "model = model.to(device)\n",
        "\n",
        "\n",
        "loss_function = nn.CrossEntropyLoss()\n",
        "\n",
        "optimizer = torch.optim.Adam(model.parameters(), lr=1.25*1e-2)\n",
        "log_dir = 'runs/gru'\n",
        "final_acc_train_gru  = []\n",
        "final_acc_test_gru = []\n",
        "final_f1score_train_gru = []\n",
        "final_f1score_test_gru = []\n",
        "final_loss_train_gru = []\n",
        "final_loss_test_gru = []\n",
        "\n",
        "for multi in range(20):\n",
        "  loss_train,f1score_train,accuracy_train = train_classifier(model, train_iterator, loss_function, optimizer, log = log_dir, num_epochs = num_epochs)\n",
        "  overall_pred,overall_label,accuracy_test,loss_test,f1ss = evaluate_classifier(model, val_iterator, loss_function)\n",
        "  final_acc_train_gru.append(accuracy_train[0])\n",
        "  final_loss_train_gru.append(loss_train[0])\n",
        "  final_acc_test_gru.append(accuracy_test[0])\n",
        "  final_f1score_train_gru.append(f1score_train[0])\n",
        "  final_f1score_test_gru.append(f1ss)\n",
        "  final_loss_test_gru.append(loss_test[0])\n",
        "\n",
        "cf = np.zeros((50,50))\n",
        "\n",
        "overall_pred = [val for sublist in overall_pred for val in sublist]\n",
        "\n",
        "overall_label = [val for sublist in overall_label for val in sublist]\n",
        "\n",
        "ziplist = list(zip(overall_label,overall_pred))\n",
        "for coordinate in ziplist:\n",
        "  cf[coordinate]+=1\n",
        "\n",
        "plt.figure(figsize = (20,20))\n",
        "ax = sns.heatmap(cf,annot=True)"
      ],
      "execution_count": 0,
      "outputs": []
    },
    {
      "cell_type": "markdown",
      "metadata": {
        "id": "BqLcOYwi-oOI",
        "colab_type": "text"
      },
      "source": [
        "**BiLSTM**"
      ]
    },
    {
      "cell_type": "code",
      "metadata": {
        "id": "9uk6YkzqVvzx",
        "colab_type": "code",
        "colab": {}
      },
      "source": [
        "import matplotlib.pyplot as plt\n",
        "import seaborn as sns\n",
        "\n",
        "from torch.utils.tensorboard import SummaryWriter\n",
        "\n",
        "output_size = 50\n",
        "hidden_size = 300\n",
        "vocab_size = len(TEXT.vocab)\n",
        "embedding_length = 100\n",
        "word_embeddings = TEXT.vocab.vectors\n",
        "num_epochs = 1\n",
        "mode = 'bilstm'\n",
        "\n",
        "model = AuthorClassifier(mode, output_size, hidden_size, vocab_size, embedding_length, word_embeddings)\n",
        "model = model.to(device)\n",
        "\n",
        "\n",
        "loss_function = nn.CrossEntropyLoss()\n",
        "\n",
        "optimizer = torch.optim.Adam(model.parameters(), lr=1.25*1e-2)\n",
        "log_dir = 'runs/bilstm'\n",
        "final_acc_train_bilstm  = []\n",
        "final_acc_test_bilstm = []\n",
        "final_f1score_train_bilstm = []\n",
        "final_f1score_test_bilstm = []\n",
        "final_loss_train_bilstm = []\n",
        "final_loss_test_bilstm = []\n",
        "\n",
        "for multi in range(20):\n",
        "  loss_train,f1score_train,accuracy_train = train_classifier(model, train_iterator, loss_function, optimizer, log = log_dir, num_epochs = num_epochs)\n",
        "  overall_pred,overall_label,accuracy_test,loss_test,f1ss = evaluate_classifier(model, val_iterator, loss_function)\n",
        "  final_acc_train_bilstm.append(accuracy_train[0])\n",
        "  final_loss_train_bilstm.append(loss_train[0])\n",
        "  final_acc_test_bilstm.append(accuracy_test[0])\n",
        "  final_f1score_train_bilstm.append(f1score_train[0])\n",
        "  final_f1score_test_bilstm.append(f1ss)\n",
        "  final_loss_test_bilstm.append(loss_test[0])\n",
        "\n",
        "cf = np.zeros((50,50))\n",
        "\n",
        "overall_pred = [val for sublist in overall_pred for val in sublist]\n",
        "overall_label = [val for sublist in overall_label for val in sublist]\n",
        "\n",
        "ziplist = list(zip(overall_label,overall_pred))\n",
        "for coordinate in ziplist:\n",
        "  cf[coordinate]+=1\n",
        "\n",
        "plt.figure(figsize = (20,20))\n",
        "ax = sns.heatmap(cf,annot=True)"
      ],
      "execution_count": 0,
      "outputs": []
    },
    {
      "cell_type": "markdown",
      "metadata": {
        "id": "Erimf66a-vfx",
        "colab_type": "text"
      },
      "source": [
        "**Plot Accuracy**"
      ]
    },
    {
      "cell_type": "code",
      "metadata": {
        "id": "RVJnK4LqwHx9",
        "colab_type": "code",
        "outputId": "10480dae-b8a7-46d4-9c34-4b7181acb077",
        "colab": {
          "base_uri": "https://localhost:8080/",
          "height": 542
        }
      },
      "source": [
        "#Plot - accuracy\n",
        "import plotly.graph_objects as go\n",
        "fig_accuracy = go.Figure()\n",
        "\n",
        "fig_accuracy.add_trace(go.Scatter(\n",
        "    y=final_acc_train_lstm,\n",
        "    connectgaps=True, marker_color='rgba(128, 0, 0, 0.9)', name = 'Training accuracy lstm'))\n",
        "\n",
        "fig_accuracy.add_trace(go.Scatter(\n",
        "    y=final_acc_test_lstm,\n",
        "    connectgaps=True, marker_color='rgba(255, 0, 0, 0.9)', name = 'Testing accuracy lstm'))\n",
        "\n",
        "fig_accuracy.add_trace(go.Scatter(\n",
        "    y=final_acc_train_gru,\n",
        "    connectgaps=True, marker_color='rgba(0, 128, 0, 0.9)', name = 'Training accuracy gru'))\n",
        "fig_accuracy.add_trace(go.Scatter(\n",
        "    y=final_acc_test_gru,\n",
        "    connectgaps=True, marker_color = 'rgba(0, 255, 0, 0.9)', name = 'Testing accuracy gru'))\n",
        "\n",
        "fig_accuracy.add_trace(go.Scatter(\n",
        "    y=final_acc_train_bilstm,\n",
        "    connectgaps=True, marker_color='rgba(0, 0, 128, 0.9)', name = 'Training accuracy bilstm'))\n",
        "fig_accuracy.add_trace(go.Scatter(\n",
        "    y=final_acc_test_bilstm, connectgaps=True, marker_color='rgba(0, 0, 255, 0.9)',\n",
        "    name='Test accuracy bilstm'))\n",
        "\n",
        "fig_accuracy.show()"
      ],
      "execution_count": 0,
      "outputs": [
        {
          "output_type": "display_data",
          "data": {
            "text/html": [
              "<html>\n",
              "<head><meta charset=\"utf-8\" /></head>\n",
              "<body>\n",
              "    <div>\n",
              "            <script src=\"https://cdnjs.cloudflare.com/ajax/libs/mathjax/2.7.5/MathJax.js?config=TeX-AMS-MML_SVG\"></script><script type=\"text/javascript\">if (window.MathJax) {MathJax.Hub.Config({SVG: {font: \"STIX-Web\"}});}</script>\n",
              "                <script type=\"text/javascript\">window.PlotlyConfig = {MathJaxConfig: 'local'};</script>\n",
              "        <script src=\"https://cdn.plot.ly/plotly-latest.min.js\"></script>    \n",
              "            <div id=\"872735f4-0a70-42c1-97fd-4e672ac079b6\" class=\"plotly-graph-div\" style=\"height:525px; width:100%;\"></div>\n",
              "            <script type=\"text/javascript\">\n",
              "                \n",
              "                    window.PLOTLYENV=window.PLOTLYENV || {};\n",
              "                    \n",
              "                if (document.getElementById(\"872735f4-0a70-42c1-97fd-4e672ac079b6\")) {\n",
              "                    Plotly.newPlot(\n",
              "                        '872735f4-0a70-42c1-97fd-4e672ac079b6',\n",
              "                        [{\"connectgaps\": true, \"marker\": {\"color\": \"rgba(128, 0, 0, 0.9)\"}, \"name\": \"Training accuracy lstm\", \"type\": \"scatter\", \"y\": [0.34009497026416485, 0.5196164307777419, 0.5752385782121617, 0.6111981927988567, 0.6384214651237841, 0.6558480475773362, 0.6661057581485409, 0.6773316121893873, 0.6834862385321101, 0.6920842745839288, 0.6917385090590568, 0.6977548291918307, 0.7035175879396985, 0.7029182610299203, 0.7092803466875662, 0.7075745700981975, 0.7115393481167305, 0.7125535936563552, 0.7129454612512102, 0.712300032271449]}, {\"connectgaps\": true, \"marker\": {\"color\": \"rgba(255, 0, 0, 0.9)\"}, \"name\": \"Testing accuracy lstm\", \"type\": \"scatter\", \"y\": [0.3774142240399909, 0.3882072256305385, 0.3943421949556919, 0.3935696432628948, 0.38718473074301296, 0.3856169052488071, 0.38795728243581007, 0.3841854124062713, 0.37918654851170186, 0.37761872301749605, 0.380595319245626, 0.37491479209270623, 0.37357418768461714, 0.37300613496932516, 0.37273346966598503, 0.3750284026357646, 0.37634628493524197, 0.3720745285162463, 0.3743694614860259, 0.3742104067257441]}, {\"connectgaps\": true, \"marker\": {\"color\": \"rgba(0, 128, 0, 0.9)\"}, \"name\": \"Training accuracy gru\", \"type\": \"scatter\", \"y\": [0.4621732515789959, 0.5952007745147757, 0.638075699598912, 0.6632474298095985, 0.6808814715780739, 0.6953805725877091, 0.7054308238439906, 0.7112166336268498, 0.7167488820248029, 0.7208289152182933, 0.7230418145774745, 0.7241482642570651, 0.7228113042275598, 0.7305564519846941, 0.7282743995205385, 0.7320086671891568, 0.7395463556313678, 0.7465077681987922, 0.7507952607072057, 0.7486515144529989]}, {\"connectgaps\": true, \"marker\": {\"color\": \"rgba(0, 255, 0, 0.9)\"}, \"name\": \"Testing accuracy gru\", \"type\": \"scatter\", \"y\": [0.38193592365371504, 0.3880027266530334, 0.39152465348784365, 0.38445807770961143, 0.3867075664621677, 0.38127698250397635, 0.3783912747102931, 0.37625539650079526, 0.37357418768461714, 0.3707793683253806, 0.37516473528743466, 0.3798227675528289, 0.37357418768461714, 0.3760281754146785, 0.36871165644171777, 0.36768916155419223, 0.37232447171097477, 0.3731879118382186, 0.37071120199954555, 0.37146103158373095]}, {\"connectgaps\": true, \"marker\": {\"color\": \"rgba(0, 0, 128, 0.9)\"}, \"name\": \"Training accuracy bilstm\", \"type\": \"scatter\", \"y\": [0.4089714628186806, 0.5810704900650039, 0.6431930293670186, 0.6799363791434235, 0.7075976211331889, 0.7216818035129777, 0.7352358120879627, 0.7400995804711632, 0.7504033931123507, 0.755797335300355, 0.7585634594993316, 0.7623207782029413, 0.7619519616430778, 0.7659858927665852, 0.7662855562214743, 0.7672536996911161, 0.7645106265271311, 0.7612834816283252, 0.760591950578581, 0.7651560555068923]}, {\"connectgaps\": true, \"marker\": {\"color\": \"rgba(0, 0, 255, 0.9)\"}, \"name\": \"Test accuracy bilstm\", \"type\": \"scatter\", \"y\": [0.396955237446035, 0.3955464667121109, 0.3946603044762554, 0.39252442626675754, 0.3872074528516246, 0.3795046580322654, 0.38195864576232674, 0.3810043172006362, 0.3822540331742786, 0.38141331515564647, 0.37573278800272664, 0.37573278800272664, 0.37030220404453534, 0.3722790274937514, 0.3674164962508521, 0.3702340377187003, 0.3677118836628039, 0.3678254942058623, 0.36896159963644626, 0.36703022040445354]}],\n",
              "                        {\"template\": {\"data\": {\"bar\": [{\"error_x\": {\"color\": \"#2a3f5f\"}, \"error_y\": {\"color\": \"#2a3f5f\"}, \"marker\": {\"line\": {\"color\": \"#E5ECF6\", \"width\": 0.5}}, \"type\": \"bar\"}], \"barpolar\": [{\"marker\": {\"line\": {\"color\": \"#E5ECF6\", \"width\": 0.5}}, \"type\": \"barpolar\"}], \"carpet\": [{\"aaxis\": {\"endlinecolor\": \"#2a3f5f\", \"gridcolor\": \"white\", \"linecolor\": \"white\", \"minorgridcolor\": \"white\", \"startlinecolor\": \"#2a3f5f\"}, \"baxis\": {\"endlinecolor\": \"#2a3f5f\", \"gridcolor\": \"white\", \"linecolor\": \"white\", \"minorgridcolor\": \"white\", \"startlinecolor\": \"#2a3f5f\"}, \"type\": \"carpet\"}], \"choropleth\": [{\"colorbar\": {\"outlinewidth\": 0, \"ticks\": \"\"}, \"type\": \"choropleth\"}], \"contour\": [{\"colorbar\": {\"outlinewidth\": 0, \"ticks\": \"\"}, \"colorscale\": [[0.0, \"#0d0887\"], [0.1111111111111111, \"#46039f\"], [0.2222222222222222, \"#7201a8\"], [0.3333333333333333, \"#9c179e\"], [0.4444444444444444, \"#bd3786\"], [0.5555555555555556, \"#d8576b\"], [0.6666666666666666, \"#ed7953\"], [0.7777777777777778, \"#fb9f3a\"], [0.8888888888888888, \"#fdca26\"], [1.0, \"#f0f921\"]], \"type\": \"contour\"}], \"contourcarpet\": [{\"colorbar\": {\"outlinewidth\": 0, \"ticks\": \"\"}, \"type\": \"contourcarpet\"}], \"heatmap\": [{\"colorbar\": {\"outlinewidth\": 0, \"ticks\": \"\"}, \"colorscale\": [[0.0, \"#0d0887\"], [0.1111111111111111, \"#46039f\"], [0.2222222222222222, \"#7201a8\"], [0.3333333333333333, \"#9c179e\"], [0.4444444444444444, \"#bd3786\"], [0.5555555555555556, \"#d8576b\"], [0.6666666666666666, \"#ed7953\"], [0.7777777777777778, \"#fb9f3a\"], [0.8888888888888888, \"#fdca26\"], [1.0, \"#f0f921\"]], \"type\": \"heatmap\"}], \"heatmapgl\": [{\"colorbar\": {\"outlinewidth\": 0, \"ticks\": \"\"}, \"colorscale\": [[0.0, \"#0d0887\"], [0.1111111111111111, \"#46039f\"], [0.2222222222222222, \"#7201a8\"], [0.3333333333333333, \"#9c179e\"], [0.4444444444444444, \"#bd3786\"], [0.5555555555555556, \"#d8576b\"], [0.6666666666666666, \"#ed7953\"], [0.7777777777777778, \"#fb9f3a\"], [0.8888888888888888, \"#fdca26\"], [1.0, \"#f0f921\"]], \"type\": \"heatmapgl\"}], \"histogram\": [{\"marker\": {\"colorbar\": {\"outlinewidth\": 0, \"ticks\": \"\"}}, \"type\": \"histogram\"}], \"histogram2d\": [{\"colorbar\": {\"outlinewidth\": 0, \"ticks\": \"\"}, \"colorscale\": [[0.0, \"#0d0887\"], [0.1111111111111111, \"#46039f\"], [0.2222222222222222, \"#7201a8\"], [0.3333333333333333, \"#9c179e\"], [0.4444444444444444, \"#bd3786\"], [0.5555555555555556, \"#d8576b\"], [0.6666666666666666, \"#ed7953\"], [0.7777777777777778, \"#fb9f3a\"], [0.8888888888888888, \"#fdca26\"], [1.0, \"#f0f921\"]], \"type\": \"histogram2d\"}], \"histogram2dcontour\": [{\"colorbar\": {\"outlinewidth\": 0, \"ticks\": \"\"}, \"colorscale\": [[0.0, \"#0d0887\"], [0.1111111111111111, \"#46039f\"], [0.2222222222222222, \"#7201a8\"], [0.3333333333333333, \"#9c179e\"], [0.4444444444444444, \"#bd3786\"], [0.5555555555555556, \"#d8576b\"], [0.6666666666666666, \"#ed7953\"], [0.7777777777777778, \"#fb9f3a\"], [0.8888888888888888, \"#fdca26\"], [1.0, \"#f0f921\"]], \"type\": \"histogram2dcontour\"}], \"mesh3d\": [{\"colorbar\": {\"outlinewidth\": 0, \"ticks\": \"\"}, \"type\": \"mesh3d\"}], \"parcoords\": [{\"line\": {\"colorbar\": {\"outlinewidth\": 0, \"ticks\": \"\"}}, \"type\": \"parcoords\"}], \"pie\": [{\"automargin\": true, \"type\": \"pie\"}], \"scatter\": [{\"marker\": {\"colorbar\": {\"outlinewidth\": 0, \"ticks\": \"\"}}, \"type\": \"scatter\"}], \"scatter3d\": [{\"line\": {\"colorbar\": {\"outlinewidth\": 0, \"ticks\": \"\"}}, \"marker\": {\"colorbar\": {\"outlinewidth\": 0, \"ticks\": \"\"}}, \"type\": \"scatter3d\"}], \"scattercarpet\": [{\"marker\": {\"colorbar\": {\"outlinewidth\": 0, \"ticks\": \"\"}}, \"type\": \"scattercarpet\"}], \"scattergeo\": [{\"marker\": {\"colorbar\": {\"outlinewidth\": 0, \"ticks\": \"\"}}, \"type\": \"scattergeo\"}], \"scattergl\": [{\"marker\": {\"colorbar\": {\"outlinewidth\": 0, \"ticks\": \"\"}}, \"type\": \"scattergl\"}], \"scattermapbox\": [{\"marker\": {\"colorbar\": {\"outlinewidth\": 0, \"ticks\": \"\"}}, \"type\": \"scattermapbox\"}], \"scatterpolar\": [{\"marker\": {\"colorbar\": {\"outlinewidth\": 0, \"ticks\": \"\"}}, \"type\": \"scatterpolar\"}], \"scatterpolargl\": [{\"marker\": {\"colorbar\": {\"outlinewidth\": 0, \"ticks\": \"\"}}, \"type\": \"scatterpolargl\"}], \"scatterternary\": [{\"marker\": {\"colorbar\": {\"outlinewidth\": 0, \"ticks\": \"\"}}, \"type\": \"scatterternary\"}], \"surface\": [{\"colorbar\": {\"outlinewidth\": 0, \"ticks\": \"\"}, \"colorscale\": [[0.0, \"#0d0887\"], [0.1111111111111111, \"#46039f\"], [0.2222222222222222, \"#7201a8\"], [0.3333333333333333, \"#9c179e\"], [0.4444444444444444, \"#bd3786\"], [0.5555555555555556, \"#d8576b\"], [0.6666666666666666, \"#ed7953\"], [0.7777777777777778, \"#fb9f3a\"], [0.8888888888888888, \"#fdca26\"], [1.0, \"#f0f921\"]], \"type\": \"surface\"}], \"table\": [{\"cells\": {\"fill\": {\"color\": \"#EBF0F8\"}, \"line\": {\"color\": \"white\"}}, \"header\": {\"fill\": {\"color\": \"#C8D4E3\"}, \"line\": {\"color\": \"white\"}}, \"type\": \"table\"}]}, \"layout\": {\"annotationdefaults\": {\"arrowcolor\": \"#2a3f5f\", \"arrowhead\": 0, \"arrowwidth\": 1}, \"coloraxis\": {\"colorbar\": {\"outlinewidth\": 0, \"ticks\": \"\"}}, \"colorscale\": {\"diverging\": [[0, \"#8e0152\"], [0.1, \"#c51b7d\"], [0.2, \"#de77ae\"], [0.3, \"#f1b6da\"], [0.4, \"#fde0ef\"], [0.5, \"#f7f7f7\"], [0.6, \"#e6f5d0\"], [0.7, \"#b8e186\"], [0.8, \"#7fbc41\"], [0.9, \"#4d9221\"], [1, \"#276419\"]], \"sequential\": [[0.0, \"#0d0887\"], [0.1111111111111111, \"#46039f\"], [0.2222222222222222, \"#7201a8\"], [0.3333333333333333, \"#9c179e\"], [0.4444444444444444, \"#bd3786\"], [0.5555555555555556, \"#d8576b\"], [0.6666666666666666, \"#ed7953\"], [0.7777777777777778, \"#fb9f3a\"], [0.8888888888888888, \"#fdca26\"], [1.0, \"#f0f921\"]], \"sequentialminus\": [[0.0, \"#0d0887\"], [0.1111111111111111, \"#46039f\"], [0.2222222222222222, \"#7201a8\"], [0.3333333333333333, \"#9c179e\"], [0.4444444444444444, \"#bd3786\"], [0.5555555555555556, \"#d8576b\"], [0.6666666666666666, \"#ed7953\"], [0.7777777777777778, \"#fb9f3a\"], [0.8888888888888888, \"#fdca26\"], [1.0, \"#f0f921\"]]}, \"colorway\": [\"#636efa\", \"#EF553B\", \"#00cc96\", \"#ab63fa\", \"#FFA15A\", \"#19d3f3\", \"#FF6692\", \"#B6E880\", \"#FF97FF\", \"#FECB52\"], \"font\": {\"color\": \"#2a3f5f\"}, \"geo\": {\"bgcolor\": \"white\", \"lakecolor\": \"white\", \"landcolor\": \"#E5ECF6\", \"showlakes\": true, \"showland\": true, \"subunitcolor\": \"white\"}, \"hoverlabel\": {\"align\": \"left\"}, \"hovermode\": \"closest\", \"mapbox\": {\"style\": \"light\"}, \"paper_bgcolor\": \"white\", \"plot_bgcolor\": \"#E5ECF6\", \"polar\": {\"angularaxis\": {\"gridcolor\": \"white\", \"linecolor\": \"white\", \"ticks\": \"\"}, \"bgcolor\": \"#E5ECF6\", \"radialaxis\": {\"gridcolor\": \"white\", \"linecolor\": \"white\", \"ticks\": \"\"}}, \"scene\": {\"xaxis\": {\"backgroundcolor\": \"#E5ECF6\", \"gridcolor\": \"white\", \"gridwidth\": 2, \"linecolor\": \"white\", \"showbackground\": true, \"ticks\": \"\", \"zerolinecolor\": \"white\"}, \"yaxis\": {\"backgroundcolor\": \"#E5ECF6\", \"gridcolor\": \"white\", \"gridwidth\": 2, \"linecolor\": \"white\", \"showbackground\": true, \"ticks\": \"\", \"zerolinecolor\": \"white\"}, \"zaxis\": {\"backgroundcolor\": \"#E5ECF6\", \"gridcolor\": \"white\", \"gridwidth\": 2, \"linecolor\": \"white\", \"showbackground\": true, \"ticks\": \"\", \"zerolinecolor\": \"white\"}}, \"shapedefaults\": {\"line\": {\"color\": \"#2a3f5f\"}}, \"ternary\": {\"aaxis\": {\"gridcolor\": \"white\", \"linecolor\": \"white\", \"ticks\": \"\"}, \"baxis\": {\"gridcolor\": \"white\", \"linecolor\": \"white\", \"ticks\": \"\"}, \"bgcolor\": \"#E5ECF6\", \"caxis\": {\"gridcolor\": \"white\", \"linecolor\": \"white\", \"ticks\": \"\"}}, \"title\": {\"x\": 0.05}, \"xaxis\": {\"automargin\": true, \"gridcolor\": \"white\", \"linecolor\": \"white\", \"ticks\": \"\", \"title\": {\"standoff\": 15}, \"zerolinecolor\": \"white\", \"zerolinewidth\": 2}, \"yaxis\": {\"automargin\": true, \"gridcolor\": \"white\", \"linecolor\": \"white\", \"ticks\": \"\", \"title\": {\"standoff\": 15}, \"zerolinecolor\": \"white\", \"zerolinewidth\": 2}}}},\n",
              "                        {\"responsive\": true}\n",
              "                    ).then(function(){\n",
              "                            \n",
              "var gd = document.getElementById('872735f4-0a70-42c1-97fd-4e672ac079b6');\n",
              "var x = new MutationObserver(function (mutations, observer) {{\n",
              "        var display = window.getComputedStyle(gd).display;\n",
              "        if (!display || display === 'none') {{\n",
              "            console.log([gd, 'removed!']);\n",
              "            Plotly.purge(gd);\n",
              "            observer.disconnect();\n",
              "        }}\n",
              "}});\n",
              "\n",
              "// Listen for the removal of the full notebook cells\n",
              "var notebookContainer = gd.closest('#notebook-container');\n",
              "if (notebookContainer) {{\n",
              "    x.observe(notebookContainer, {childList: true});\n",
              "}}\n",
              "\n",
              "// Listen for the clearing of the current output cell\n",
              "var outputEl = gd.closest('.output');\n",
              "if (outputEl) {{\n",
              "    x.observe(outputEl, {childList: true});\n",
              "}}\n",
              "\n",
              "                        })\n",
              "                };\n",
              "                \n",
              "            </script>\n",
              "        </div>\n",
              "</body>\n",
              "</html>"
            ]
          },
          "metadata": {
            "tags": []
          }
        }
      ]
    },
    {
      "cell_type": "markdown",
      "metadata": {
        "id": "xnJNtCEj-zz5",
        "colab_type": "text"
      },
      "source": [
        "**LOSS PLOTS**"
      ]
    },
    {
      "cell_type": "code",
      "metadata": {
        "id": "23WM5fJjHnZz",
        "colab_type": "code",
        "outputId": "2a796264-aaf5-489c-b5ec-9b2f35bb6ca4",
        "colab": {
          "base_uri": "https://localhost:8080/",
          "height": 542
        }
      },
      "source": [
        "#Loss Plots\n",
        "import plotly.graph_objects as go\n",
        "fig_loss = go.Figure()\n",
        "\n",
        "fig_loss.add_trace(go.Scatter(\n",
        "    y=final_loss_train_lstm,\n",
        "    connectgaps=True, marker_color='rgba(128, 0, 0, 0.9)', name = 'Training Loss lstm'))\n",
        "\n",
        "fig_loss.add_trace(go.Scatter(\n",
        "    y=final_loss_test_lstm,\n",
        "    connectgaps=True, marker_color='rgba(255, 0, 0, 0.9)', name = 'Testing Loss lstm'))\n",
        "\n",
        "fig_loss.add_trace(go.Scatter(\n",
        "    y=final_loss_train_gru,\n",
        "    connectgaps=True, marker_color='rgba(0, 128, 0, 0.9)', name = 'Training Loss gru'))\n",
        "\n",
        "fig_loss.add_trace(go.Scatter(\n",
        "    y=final_loss_test_gru,\n",
        "    connectgaps=True, marker_color='rgba(0, 255, 0, 0.9)', name = 'Testing Loss gru'))\n",
        "\n",
        "fig_loss.add_trace(go.Scatter(\n",
        "    y=final_loss_train_bilstm,\n",
        "    connectgaps=True, marker_color='rgba(0, 0, 128, 0.9)', name = 'Training Loss bilstm'))\n",
        "\n",
        "fig_loss.add_trace(go.Scatter(\n",
        "    y=final_loss_test_bilstm,\n",
        "    connectgaps=True, marker_color='rgba(0, 0, 255, 0.9)', name = 'Testing Loss bilstm'))\n",
        "\n",
        "fig_loss.show()"
      ],
      "execution_count": 0,
      "outputs": [
        {
          "output_type": "display_data",
          "data": {
            "text/html": [
              "<html>\n",
              "<head><meta charset=\"utf-8\" /></head>\n",
              "<body>\n",
              "    <div>\n",
              "            <script src=\"https://cdnjs.cloudflare.com/ajax/libs/mathjax/2.7.5/MathJax.js?config=TeX-AMS-MML_SVG\"></script><script type=\"text/javascript\">if (window.MathJax) {MathJax.Hub.Config({SVG: {font: \"STIX-Web\"}});}</script>\n",
              "                <script type=\"text/javascript\">window.PlotlyConfig = {MathJaxConfig: 'local'};</script>\n",
              "        <script src=\"https://cdn.plot.ly/plotly-latest.min.js\"></script>    \n",
              "            <div id=\"c08ba214-02e2-4281-975d-e8835467cc83\" class=\"plotly-graph-div\" style=\"height:525px; width:100%;\"></div>\n",
              "            <script type=\"text/javascript\">\n",
              "                \n",
              "                    window.PLOTLYENV=window.PLOTLYENV || {};\n",
              "                    \n",
              "                if (document.getElementById(\"c08ba214-02e2-4281-975d-e8835467cc83\")) {\n",
              "                    Plotly.newPlot(\n",
              "                        'c08ba214-02e2-4281-975d-e8835467cc83',\n",
              "                        [{\"connectgaps\": true, \"marker\": {\"color\": \"rgba(128, 0, 0, 0.9)\"}, \"name\": \"Training Loss lstm\", \"type\": \"scatter\", \"y\": [0.0357117802021464, 0.024975270281567416, 0.021852152766674026, 0.01994542354842966, 0.01852939531277843, 0.01760372827326321, 0.016832525997448528, 0.01633650707819887, 0.01605257622615622, 0.015562029380003868, 0.015512299311781516, 0.015174774358499088, 0.015015319463766042, 0.014923494027355698, 0.01472266365862295, 0.014662664126549665, 0.014445991169685844, 0.014516744295001266, 0.014421033813775226, 0.014597603975064054]}, {\"connectgaps\": true, \"marker\": {\"color\": \"rgba(255, 0, 0, 0.9)\"}, \"name\": \"Testing Loss lstm\", \"type\": \"scatter\", \"y\": [0.03438797235434718, 0.03541298402328162, 0.036718239648264664, 0.038116826628641874, 0.03959873278177318, 0.04065662222243363, 0.04186714451520504, 0.043127624424065654, 0.04416190058067424, 0.045172449909159064, 0.0447758823084685, 0.046113186897242295, 0.046449290928692204, 0.04725879281522252, 0.047841902584738145, 0.04767683739148604, 0.04865414646911881, 0.04849251280099634, 0.04901874903195881, 0.04882628798782758]}, {\"connectgaps\": true, \"marker\": {\"color\": \"rgba(0, 128, 0, 0.9)\"}, \"name\": \"Training Loss gru\", \"type\": \"scatter\", \"y\": [0.02942852512620955, 0.021545751111250542, 0.019093473347482782, 0.01772459486513941, 0.016674325923241275, 0.01605619272925339, 0.015380421132062252, 0.015202849419838791, 0.01486892355004428, 0.014685111624324785, 0.014578943723745462, 0.014560793964459763, 0.014598677292837817, 0.014439632028559751, 0.014435842499287373, 0.01420080979705423, 0.013922592588526421, 0.013621495609093074, 0.01336624080693154, 0.013341573316424084]}, {\"connectgaps\": true, \"marker\": {\"color\": \"rgba(0, 255, 0, 0.9)\"}, \"name\": \"Testing Loss gru\", \"type\": \"scatter\", \"y\": [0.03779509130783228, 0.041257960114850695, 0.043720068004667094, 0.045223022883275885, 0.047191083986524614, 0.04943875248013396, 0.05191405937363413, 0.05400282340926275, 0.055846925652371135, 0.05689217959769989, 0.05787522356175911, 0.059807879075330105, 0.059984098464568834, 0.060573232325606116, 0.06200287127814437, 0.06264785400332984, 0.06312526052741944, 0.06436617376587116, 0.06576443351796746, 0.06615880785462966]}, {\"connectgaps\": true, \"marker\": {\"color\": \"rgba(0, 0, 128, 0.9)\"}, \"name\": \"Training Loss bilstm\", \"type\": \"scatter\", \"y\": [0.03207707040719123, 0.021757092676377716, 0.018454823267365892, 0.016403911419827315, 0.015009052575741954, 0.014156632092059397, 0.013382819759461578, 0.0130866715497075, 0.012624582147885147, 0.012214019897004325, 0.012161370290385854, 0.012114145141296722, 0.012021482738929305, 0.011808831421431265, 0.011717477575755813, 0.01194782062817464, 0.011926191762727929, 0.012148917614410682, 0.012203305855968407, 0.012038698775695406]}, {\"connectgaps\": true, \"marker\": {\"color\": \"rgba(0, 0, 255, 0.9)\"}, \"name\": \"Testing Loss bilstm\", \"type\": \"scatter\", \"y\": [0.034611431930964984, 0.036539724075748174, 0.038108044644697935, 0.040623323967770485, 0.04373060595959432, 0.04536697625626328, 0.04727432906587025, 0.048580999835949816, 0.05011407105225483, 0.0520962413807561, 0.053207819368643695, 0.05393906993179044, 0.05496019090855292, 0.05575098254089598, 0.056528985188836756, 0.05690546849185135, 0.0571592437709036, 0.05733539754763107, 0.05819390048170274, 0.0587327518454467]}],\n",
              "                        {\"template\": {\"data\": {\"bar\": [{\"error_x\": {\"color\": \"#2a3f5f\"}, \"error_y\": {\"color\": \"#2a3f5f\"}, \"marker\": {\"line\": {\"color\": \"#E5ECF6\", \"width\": 0.5}}, \"type\": \"bar\"}], \"barpolar\": [{\"marker\": {\"line\": {\"color\": \"#E5ECF6\", \"width\": 0.5}}, \"type\": \"barpolar\"}], \"carpet\": [{\"aaxis\": {\"endlinecolor\": \"#2a3f5f\", \"gridcolor\": \"white\", \"linecolor\": \"white\", \"minorgridcolor\": \"white\", \"startlinecolor\": \"#2a3f5f\"}, \"baxis\": {\"endlinecolor\": \"#2a3f5f\", \"gridcolor\": \"white\", \"linecolor\": \"white\", \"minorgridcolor\": \"white\", \"startlinecolor\": \"#2a3f5f\"}, \"type\": \"carpet\"}], \"choropleth\": [{\"colorbar\": {\"outlinewidth\": 0, \"ticks\": \"\"}, \"type\": \"choropleth\"}], \"contour\": [{\"colorbar\": {\"outlinewidth\": 0, \"ticks\": \"\"}, \"colorscale\": [[0.0, \"#0d0887\"], [0.1111111111111111, \"#46039f\"], [0.2222222222222222, \"#7201a8\"], [0.3333333333333333, \"#9c179e\"], [0.4444444444444444, \"#bd3786\"], [0.5555555555555556, \"#d8576b\"], [0.6666666666666666, \"#ed7953\"], [0.7777777777777778, \"#fb9f3a\"], [0.8888888888888888, \"#fdca26\"], [1.0, \"#f0f921\"]], \"type\": \"contour\"}], \"contourcarpet\": [{\"colorbar\": {\"outlinewidth\": 0, \"ticks\": \"\"}, \"type\": \"contourcarpet\"}], \"heatmap\": [{\"colorbar\": {\"outlinewidth\": 0, \"ticks\": \"\"}, \"colorscale\": [[0.0, \"#0d0887\"], [0.1111111111111111, \"#46039f\"], [0.2222222222222222, \"#7201a8\"], [0.3333333333333333, \"#9c179e\"], [0.4444444444444444, \"#bd3786\"], [0.5555555555555556, \"#d8576b\"], [0.6666666666666666, \"#ed7953\"], [0.7777777777777778, \"#fb9f3a\"], [0.8888888888888888, \"#fdca26\"], [1.0, \"#f0f921\"]], \"type\": \"heatmap\"}], \"heatmapgl\": [{\"colorbar\": {\"outlinewidth\": 0, \"ticks\": \"\"}, \"colorscale\": [[0.0, \"#0d0887\"], [0.1111111111111111, \"#46039f\"], [0.2222222222222222, \"#7201a8\"], [0.3333333333333333, \"#9c179e\"], [0.4444444444444444, \"#bd3786\"], [0.5555555555555556, \"#d8576b\"], [0.6666666666666666, \"#ed7953\"], [0.7777777777777778, \"#fb9f3a\"], [0.8888888888888888, \"#fdca26\"], [1.0, \"#f0f921\"]], \"type\": \"heatmapgl\"}], \"histogram\": [{\"marker\": {\"colorbar\": {\"outlinewidth\": 0, \"ticks\": \"\"}}, \"type\": \"histogram\"}], \"histogram2d\": [{\"colorbar\": {\"outlinewidth\": 0, \"ticks\": \"\"}, \"colorscale\": [[0.0, \"#0d0887\"], [0.1111111111111111, \"#46039f\"], [0.2222222222222222, \"#7201a8\"], [0.3333333333333333, \"#9c179e\"], [0.4444444444444444, \"#bd3786\"], [0.5555555555555556, \"#d8576b\"], [0.6666666666666666, \"#ed7953\"], [0.7777777777777778, \"#fb9f3a\"], [0.8888888888888888, \"#fdca26\"], [1.0, \"#f0f921\"]], \"type\": \"histogram2d\"}], \"histogram2dcontour\": [{\"colorbar\": {\"outlinewidth\": 0, \"ticks\": \"\"}, \"colorscale\": [[0.0, \"#0d0887\"], [0.1111111111111111, \"#46039f\"], [0.2222222222222222, \"#7201a8\"], [0.3333333333333333, \"#9c179e\"], [0.4444444444444444, \"#bd3786\"], [0.5555555555555556, \"#d8576b\"], [0.6666666666666666, \"#ed7953\"], [0.7777777777777778, \"#fb9f3a\"], [0.8888888888888888, \"#fdca26\"], [1.0, \"#f0f921\"]], \"type\": \"histogram2dcontour\"}], \"mesh3d\": [{\"colorbar\": {\"outlinewidth\": 0, \"ticks\": \"\"}, \"type\": \"mesh3d\"}], \"parcoords\": [{\"line\": {\"colorbar\": {\"outlinewidth\": 0, \"ticks\": \"\"}}, \"type\": \"parcoords\"}], \"pie\": [{\"automargin\": true, \"type\": \"pie\"}], \"scatter\": [{\"marker\": {\"colorbar\": {\"outlinewidth\": 0, \"ticks\": \"\"}}, \"type\": \"scatter\"}], \"scatter3d\": [{\"line\": {\"colorbar\": {\"outlinewidth\": 0, \"ticks\": \"\"}}, \"marker\": {\"colorbar\": {\"outlinewidth\": 0, \"ticks\": \"\"}}, \"type\": \"scatter3d\"}], \"scattercarpet\": [{\"marker\": {\"colorbar\": {\"outlinewidth\": 0, \"ticks\": \"\"}}, \"type\": \"scattercarpet\"}], \"scattergeo\": [{\"marker\": {\"colorbar\": {\"outlinewidth\": 0, \"ticks\": \"\"}}, \"type\": \"scattergeo\"}], \"scattergl\": [{\"marker\": {\"colorbar\": {\"outlinewidth\": 0, \"ticks\": \"\"}}, \"type\": \"scattergl\"}], \"scattermapbox\": [{\"marker\": {\"colorbar\": {\"outlinewidth\": 0, \"ticks\": \"\"}}, \"type\": \"scattermapbox\"}], \"scatterpolar\": [{\"marker\": {\"colorbar\": {\"outlinewidth\": 0, \"ticks\": \"\"}}, \"type\": \"scatterpolar\"}], \"scatterpolargl\": [{\"marker\": {\"colorbar\": {\"outlinewidth\": 0, \"ticks\": \"\"}}, \"type\": \"scatterpolargl\"}], \"scatterternary\": [{\"marker\": {\"colorbar\": {\"outlinewidth\": 0, \"ticks\": \"\"}}, \"type\": \"scatterternary\"}], \"surface\": [{\"colorbar\": {\"outlinewidth\": 0, \"ticks\": \"\"}, \"colorscale\": [[0.0, \"#0d0887\"], [0.1111111111111111, \"#46039f\"], [0.2222222222222222, \"#7201a8\"], [0.3333333333333333, \"#9c179e\"], [0.4444444444444444, \"#bd3786\"], [0.5555555555555556, \"#d8576b\"], [0.6666666666666666, \"#ed7953\"], [0.7777777777777778, \"#fb9f3a\"], [0.8888888888888888, \"#fdca26\"], [1.0, \"#f0f921\"]], \"type\": \"surface\"}], \"table\": [{\"cells\": {\"fill\": {\"color\": \"#EBF0F8\"}, \"line\": {\"color\": \"white\"}}, \"header\": {\"fill\": {\"color\": \"#C8D4E3\"}, \"line\": {\"color\": \"white\"}}, \"type\": \"table\"}]}, \"layout\": {\"annotationdefaults\": {\"arrowcolor\": \"#2a3f5f\", \"arrowhead\": 0, \"arrowwidth\": 1}, \"coloraxis\": {\"colorbar\": {\"outlinewidth\": 0, \"ticks\": \"\"}}, \"colorscale\": {\"diverging\": [[0, \"#8e0152\"], [0.1, \"#c51b7d\"], [0.2, \"#de77ae\"], [0.3, \"#f1b6da\"], [0.4, \"#fde0ef\"], [0.5, \"#f7f7f7\"], [0.6, \"#e6f5d0\"], [0.7, \"#b8e186\"], [0.8, \"#7fbc41\"], [0.9, \"#4d9221\"], [1, \"#276419\"]], \"sequential\": [[0.0, \"#0d0887\"], [0.1111111111111111, \"#46039f\"], [0.2222222222222222, \"#7201a8\"], [0.3333333333333333, \"#9c179e\"], [0.4444444444444444, \"#bd3786\"], [0.5555555555555556, \"#d8576b\"], [0.6666666666666666, \"#ed7953\"], [0.7777777777777778, \"#fb9f3a\"], [0.8888888888888888, \"#fdca26\"], [1.0, \"#f0f921\"]], \"sequentialminus\": [[0.0, \"#0d0887\"], [0.1111111111111111, \"#46039f\"], [0.2222222222222222, \"#7201a8\"], [0.3333333333333333, \"#9c179e\"], [0.4444444444444444, \"#bd3786\"], [0.5555555555555556, \"#d8576b\"], [0.6666666666666666, \"#ed7953\"], [0.7777777777777778, \"#fb9f3a\"], [0.8888888888888888, \"#fdca26\"], [1.0, \"#f0f921\"]]}, \"colorway\": [\"#636efa\", \"#EF553B\", \"#00cc96\", \"#ab63fa\", \"#FFA15A\", \"#19d3f3\", \"#FF6692\", \"#B6E880\", \"#FF97FF\", \"#FECB52\"], \"font\": {\"color\": \"#2a3f5f\"}, \"geo\": {\"bgcolor\": \"white\", \"lakecolor\": \"white\", \"landcolor\": \"#E5ECF6\", \"showlakes\": true, \"showland\": true, \"subunitcolor\": \"white\"}, \"hoverlabel\": {\"align\": \"left\"}, \"hovermode\": \"closest\", \"mapbox\": {\"style\": \"light\"}, \"paper_bgcolor\": \"white\", \"plot_bgcolor\": \"#E5ECF6\", \"polar\": {\"angularaxis\": {\"gridcolor\": \"white\", \"linecolor\": \"white\", \"ticks\": \"\"}, \"bgcolor\": \"#E5ECF6\", \"radialaxis\": {\"gridcolor\": \"white\", \"linecolor\": \"white\", \"ticks\": \"\"}}, \"scene\": {\"xaxis\": {\"backgroundcolor\": \"#E5ECF6\", \"gridcolor\": \"white\", \"gridwidth\": 2, \"linecolor\": \"white\", \"showbackground\": true, \"ticks\": \"\", \"zerolinecolor\": \"white\"}, \"yaxis\": {\"backgroundcolor\": \"#E5ECF6\", \"gridcolor\": \"white\", \"gridwidth\": 2, \"linecolor\": \"white\", \"showbackground\": true, \"ticks\": \"\", \"zerolinecolor\": \"white\"}, \"zaxis\": {\"backgroundcolor\": \"#E5ECF6\", \"gridcolor\": \"white\", \"gridwidth\": 2, \"linecolor\": \"white\", \"showbackground\": true, \"ticks\": \"\", \"zerolinecolor\": \"white\"}}, \"shapedefaults\": {\"line\": {\"color\": \"#2a3f5f\"}}, \"ternary\": {\"aaxis\": {\"gridcolor\": \"white\", \"linecolor\": \"white\", \"ticks\": \"\"}, \"baxis\": {\"gridcolor\": \"white\", \"linecolor\": \"white\", \"ticks\": \"\"}, \"bgcolor\": \"#E5ECF6\", \"caxis\": {\"gridcolor\": \"white\", \"linecolor\": \"white\", \"ticks\": \"\"}}, \"title\": {\"x\": 0.05}, \"xaxis\": {\"automargin\": true, \"gridcolor\": \"white\", \"linecolor\": \"white\", \"ticks\": \"\", \"title\": {\"standoff\": 15}, \"zerolinecolor\": \"white\", \"zerolinewidth\": 2}, \"yaxis\": {\"automargin\": true, \"gridcolor\": \"white\", \"linecolor\": \"white\", \"ticks\": \"\", \"title\": {\"standoff\": 15}, \"zerolinecolor\": \"white\", \"zerolinewidth\": 2}}}},\n",
              "                        {\"responsive\": true}\n",
              "                    ).then(function(){\n",
              "                            \n",
              "var gd = document.getElementById('c08ba214-02e2-4281-975d-e8835467cc83');\n",
              "var x = new MutationObserver(function (mutations, observer) {{\n",
              "        var display = window.getComputedStyle(gd).display;\n",
              "        if (!display || display === 'none') {{\n",
              "            console.log([gd, 'removed!']);\n",
              "            Plotly.purge(gd);\n",
              "            observer.disconnect();\n",
              "        }}\n",
              "}});\n",
              "\n",
              "// Listen for the removal of the full notebook cells\n",
              "var notebookContainer = gd.closest('#notebook-container');\n",
              "if (notebookContainer) {{\n",
              "    x.observe(notebookContainer, {childList: true});\n",
              "}}\n",
              "\n",
              "// Listen for the clearing of the current output cell\n",
              "var outputEl = gd.closest('.output');\n",
              "if (outputEl) {{\n",
              "    x.observe(outputEl, {childList: true});\n",
              "}}\n",
              "\n",
              "                        })\n",
              "                };\n",
              "                \n",
              "            </script>\n",
              "        </div>\n",
              "</body>\n",
              "</html>"
            ]
          },
          "metadata": {
            "tags": []
          }
        }
      ]
    },
    {
      "cell_type": "markdown",
      "metadata": {
        "id": "Y5QaxowP-28v",
        "colab_type": "text"
      },
      "source": [
        "**Plot - f1score**"
      ]
    },
    {
      "cell_type": "code",
      "metadata": {
        "id": "cguxoZgIICrZ",
        "colab_type": "code",
        "outputId": "e4d10f1f-8e53-4532-d276-c6fad7db47c8",
        "colab": {
          "base_uri": "https://localhost:8080/",
          "height": 542
        }
      },
      "source": [
        "#Plot - f1score\n",
        "import plotly.graph_objects as go\n",
        "fig_f1score = go.Figure()\n",
        "\n",
        "fig_f1score.add_trace(go.Scatter(\n",
        "    y=final_f1score_train_lstm,\n",
        "    connectgaps=True, marker_color='rgba(128, 0, 0, 0.9)', name = 'Training f1score lstm'))\n",
        "\n",
        "fig_f1score.add_trace(go.Scatter(\n",
        "    y=final_f1score_test_lstm,\n",
        "    connectgaps=True, marker_color='rgba(255, 0, 0, 0.9)', name = 'Testing f1score lstm'))\n",
        "\n",
        "fig_f1score.add_trace(go.Scatter(\n",
        "    y=final_f1score_train_gru,\n",
        "    connectgaps=True, marker_color='rgba(0, 128, 0, 0.9)', name = 'Training f1score gru'))\n",
        "fig_f1score.add_trace(go.Scatter(\n",
        "    y=final_f1score_test_gru,\n",
        "    connectgaps=True, marker_color = 'rgba(0, 255, 0, 0.9)', name = 'Testing f1score gru'))\n",
        "\n",
        "fig_f1score.add_trace(go.Scatter(\n",
        "    y=final_f1score_train_bilstm,\n",
        "    connectgaps=True, marker_color='rgba(0, 0, 128, 0.9)', name = 'Training f1score bilstm'))\n",
        "fig_f1score.add_trace(go.Scatter(\n",
        "    y=final_f1score_test_bilstm, connectgaps=True, marker_color='rgba(0, 0, 255, 0.9)',\n",
        "    name='Test f1score bilstm'))\n",
        "\n",
        "fig_f1score.show()"
      ],
      "execution_count": 0,
      "outputs": [
        {
          "output_type": "display_data",
          "data": {
            "text/html": [
              "<html>\n",
              "<head><meta charset=\"utf-8\" /></head>\n",
              "<body>\n",
              "    <div>\n",
              "            <script src=\"https://cdnjs.cloudflare.com/ajax/libs/mathjax/2.7.5/MathJax.js?config=TeX-AMS-MML_SVG\"></script><script type=\"text/javascript\">if (window.MathJax) {MathJax.Hub.Config({SVG: {font: \"STIX-Web\"}});}</script>\n",
              "                <script type=\"text/javascript\">window.PlotlyConfig = {MathJaxConfig: 'local'};</script>\n",
              "        <script src=\"https://cdn.plot.ly/plotly-latest.min.js\"></script>    \n",
              "            <div id=\"c6756355-f1f3-4392-bd51-b498e95a6d49\" class=\"plotly-graph-div\" style=\"height:525px; width:100%;\"></div>\n",
              "            <script type=\"text/javascript\">\n",
              "                \n",
              "                    window.PLOTLYENV=window.PLOTLYENV || {};\n",
              "                    \n",
              "                if (document.getElementById(\"c6756355-f1f3-4392-bd51-b498e95a6d49\")) {\n",
              "                    Plotly.newPlot(\n",
              "                        'c6756355-f1f3-4392-bd51-b498e95a6d49',\n",
              "                        [{\"connectgaps\": true, \"marker\": {\"color\": \"rgba(128, 0, 0, 0.9)\"}, \"name\": \"Training f1score lstm\", \"type\": \"scatter\", \"y\": [0.2501933806895269, 0.41275709846192493, 0.46863589250357157, 0.5053273708579552, 0.5343412377916874, 0.55131711094899, 0.5644319742420947, 0.5755472170571796, 0.5805927479499198, 0.5929176372293455, 0.5904473815588018, 0.5981019933079182, 0.6052887366140349, 0.6060858743880585, 0.6102127993878194, 0.6087718141298242, 0.6125822862029006, 0.6158603511384857, 0.6148696631648001, 0.6175718301101533]}, {\"connectgaps\": true, \"marker\": {\"color\": \"rgba(255, 0, 0, 0.9)\"}, \"name\": \"Testing f1score lstm\", \"type\": \"scatter\", \"y\": [0.3686703072174488, 0.3804843836551182, 0.3904766985808982, 0.3915513504566708, 0.38646131586595106, 0.38515938115086124, 0.38390450880234894, 0.3808183465878799, 0.37723807806580206, 0.37902715682737104, 0.3777848352653208, 0.3751488368734491, 0.3749813839943121, 0.3736590973394655, 0.37323332598342274, 0.3741670090178805, 0.3770821744341055, 0.3716147103020932, 0.375562448679023, 0.37415200484297656]}, {\"connectgaps\": true, \"marker\": {\"color\": \"rgba(0, 128, 0, 0.9)\"}, \"name\": \"Training f1score gru\", \"type\": \"scatter\", \"y\": [0.36264056917816445, 0.4927226885951723, 0.5329404293953358, 0.5626987593794063, 0.5794100107551953, 0.5961357262826946, 0.6094910748553016, 0.614094056571905, 0.6181633267609382, 0.622793687499965, 0.6253041563273903, 0.6260991206659489, 0.6250795299149795, 0.6347511960842337, 0.6335691737632273, 0.6372832848191708, 0.6465763871530266, 0.6535999187255259, 0.6593733290324062, 0.6553175091507903]}, {\"connectgaps\": true, \"marker\": {\"color\": \"rgba(0, 255, 0, 0.9)\"}, \"name\": \"Testing f1score gru\", \"type\": \"scatter\", \"y\": [0.37877710216506805, 0.3817533265099856, 0.3891577975139544, 0.3862105362197076, 0.38814109156594834, 0.3801371592968246, 0.3819234817258505, 0.37929031564731097, 0.3766588935054193, 0.37522607607491565, 0.3733784624078934, 0.3795566264751761, 0.3780992200667857, 0.37688393996272235, 0.3709335085134696, 0.37101119767862106, 0.3732548586132666, 0.37679447775091485, 0.36916897626820083, 0.37268595585353814]}, {\"connectgaps\": true, \"marker\": {\"color\": \"rgba(0, 0, 128, 0.9)\"}, \"name\": \"Training f1score bilstm\", \"type\": \"scatter\", \"y\": [0.31530718703281885, 0.4759566941091441, 0.5388964566135621, 0.5788741993835743, 0.6101672111552129, 0.6234111209815906, 0.6408966227378532, 0.6465406986211333, 0.657196332098409, 0.6610803566283455, 0.6659917492615435, 0.6739332661065147, 0.6728234445965132, 0.6757287400189608, 0.6778745304033905, 0.6765398377225822, 0.673470775005102, 0.6706061222189762, 0.6674522364729131, 0.6746181919373319]}, {\"connectgaps\": true, \"marker\": {\"color\": \"rgba(0, 0, 255, 0.9)\"}, \"name\": \"Test f1score bilstm\", \"type\": \"scatter\", \"y\": [0.3897022786366846, 0.3937884112538727, 0.39674284328686577, 0.3931406389417555, 0.38682271615868324, 0.38091765454414167, 0.38131591440972235, 0.384057764824904, 0.3849418889407536, 0.38294542643639445, 0.3761825116114379, 0.3762846134641828, 0.3718976012931177, 0.37373613047568355, 0.3686634525764622, 0.37033979458611155, 0.36934283362539966, 0.3688776646517602, 0.370704157042394, 0.36857029714909556]}],\n",
              "                        {\"template\": {\"data\": {\"bar\": [{\"error_x\": {\"color\": \"#2a3f5f\"}, \"error_y\": {\"color\": \"#2a3f5f\"}, \"marker\": {\"line\": {\"color\": \"#E5ECF6\", \"width\": 0.5}}, \"type\": \"bar\"}], \"barpolar\": [{\"marker\": {\"line\": {\"color\": \"#E5ECF6\", \"width\": 0.5}}, \"type\": \"barpolar\"}], \"carpet\": [{\"aaxis\": {\"endlinecolor\": \"#2a3f5f\", \"gridcolor\": \"white\", \"linecolor\": \"white\", \"minorgridcolor\": \"white\", \"startlinecolor\": \"#2a3f5f\"}, \"baxis\": {\"endlinecolor\": \"#2a3f5f\", \"gridcolor\": \"white\", \"linecolor\": \"white\", \"minorgridcolor\": \"white\", \"startlinecolor\": \"#2a3f5f\"}, \"type\": \"carpet\"}], \"choropleth\": [{\"colorbar\": {\"outlinewidth\": 0, \"ticks\": \"\"}, \"type\": \"choropleth\"}], \"contour\": [{\"colorbar\": {\"outlinewidth\": 0, \"ticks\": \"\"}, \"colorscale\": [[0.0, \"#0d0887\"], [0.1111111111111111, \"#46039f\"], [0.2222222222222222, \"#7201a8\"], [0.3333333333333333, \"#9c179e\"], [0.4444444444444444, \"#bd3786\"], [0.5555555555555556, \"#d8576b\"], [0.6666666666666666, \"#ed7953\"], [0.7777777777777778, \"#fb9f3a\"], [0.8888888888888888, \"#fdca26\"], [1.0, \"#f0f921\"]], \"type\": \"contour\"}], \"contourcarpet\": [{\"colorbar\": {\"outlinewidth\": 0, \"ticks\": \"\"}, \"type\": \"contourcarpet\"}], \"heatmap\": [{\"colorbar\": {\"outlinewidth\": 0, \"ticks\": \"\"}, \"colorscale\": [[0.0, \"#0d0887\"], [0.1111111111111111, \"#46039f\"], [0.2222222222222222, \"#7201a8\"], [0.3333333333333333, \"#9c179e\"], [0.4444444444444444, \"#bd3786\"], [0.5555555555555556, \"#d8576b\"], [0.6666666666666666, \"#ed7953\"], [0.7777777777777778, \"#fb9f3a\"], [0.8888888888888888, \"#fdca26\"], [1.0, \"#f0f921\"]], \"type\": \"heatmap\"}], \"heatmapgl\": [{\"colorbar\": {\"outlinewidth\": 0, \"ticks\": \"\"}, \"colorscale\": [[0.0, \"#0d0887\"], [0.1111111111111111, \"#46039f\"], [0.2222222222222222, \"#7201a8\"], [0.3333333333333333, \"#9c179e\"], [0.4444444444444444, \"#bd3786\"], [0.5555555555555556, \"#d8576b\"], [0.6666666666666666, \"#ed7953\"], [0.7777777777777778, \"#fb9f3a\"], [0.8888888888888888, \"#fdca26\"], [1.0, \"#f0f921\"]], \"type\": \"heatmapgl\"}], \"histogram\": [{\"marker\": {\"colorbar\": {\"outlinewidth\": 0, \"ticks\": \"\"}}, \"type\": \"histogram\"}], \"histogram2d\": [{\"colorbar\": {\"outlinewidth\": 0, \"ticks\": \"\"}, \"colorscale\": [[0.0, \"#0d0887\"], [0.1111111111111111, \"#46039f\"], [0.2222222222222222, \"#7201a8\"], [0.3333333333333333, \"#9c179e\"], [0.4444444444444444, \"#bd3786\"], [0.5555555555555556, \"#d8576b\"], [0.6666666666666666, \"#ed7953\"], [0.7777777777777778, \"#fb9f3a\"], [0.8888888888888888, \"#fdca26\"], [1.0, \"#f0f921\"]], \"type\": \"histogram2d\"}], \"histogram2dcontour\": [{\"colorbar\": {\"outlinewidth\": 0, \"ticks\": \"\"}, \"colorscale\": [[0.0, \"#0d0887\"], [0.1111111111111111, \"#46039f\"], [0.2222222222222222, \"#7201a8\"], [0.3333333333333333, \"#9c179e\"], [0.4444444444444444, \"#bd3786\"], [0.5555555555555556, \"#d8576b\"], [0.6666666666666666, \"#ed7953\"], [0.7777777777777778, \"#fb9f3a\"], [0.8888888888888888, \"#fdca26\"], [1.0, \"#f0f921\"]], \"type\": \"histogram2dcontour\"}], \"mesh3d\": [{\"colorbar\": {\"outlinewidth\": 0, \"ticks\": \"\"}, \"type\": \"mesh3d\"}], \"parcoords\": [{\"line\": {\"colorbar\": {\"outlinewidth\": 0, \"ticks\": \"\"}}, \"type\": \"parcoords\"}], \"pie\": [{\"automargin\": true, \"type\": \"pie\"}], \"scatter\": [{\"marker\": {\"colorbar\": {\"outlinewidth\": 0, \"ticks\": \"\"}}, \"type\": \"scatter\"}], \"scatter3d\": [{\"line\": {\"colorbar\": {\"outlinewidth\": 0, \"ticks\": \"\"}}, \"marker\": {\"colorbar\": {\"outlinewidth\": 0, \"ticks\": \"\"}}, \"type\": \"scatter3d\"}], \"scattercarpet\": [{\"marker\": {\"colorbar\": {\"outlinewidth\": 0, \"ticks\": \"\"}}, \"type\": \"scattercarpet\"}], \"scattergeo\": [{\"marker\": {\"colorbar\": {\"outlinewidth\": 0, \"ticks\": \"\"}}, \"type\": \"scattergeo\"}], \"scattergl\": [{\"marker\": {\"colorbar\": {\"outlinewidth\": 0, \"ticks\": \"\"}}, \"type\": \"scattergl\"}], \"scattermapbox\": [{\"marker\": {\"colorbar\": {\"outlinewidth\": 0, \"ticks\": \"\"}}, \"type\": \"scattermapbox\"}], \"scatterpolar\": [{\"marker\": {\"colorbar\": {\"outlinewidth\": 0, \"ticks\": \"\"}}, \"type\": \"scatterpolar\"}], \"scatterpolargl\": [{\"marker\": {\"colorbar\": {\"outlinewidth\": 0, \"ticks\": \"\"}}, \"type\": \"scatterpolargl\"}], \"scatterternary\": [{\"marker\": {\"colorbar\": {\"outlinewidth\": 0, \"ticks\": \"\"}}, \"type\": \"scatterternary\"}], \"surface\": [{\"colorbar\": {\"outlinewidth\": 0, \"ticks\": \"\"}, \"colorscale\": [[0.0, \"#0d0887\"], [0.1111111111111111, \"#46039f\"], [0.2222222222222222, \"#7201a8\"], [0.3333333333333333, \"#9c179e\"], [0.4444444444444444, \"#bd3786\"], [0.5555555555555556, \"#d8576b\"], [0.6666666666666666, \"#ed7953\"], [0.7777777777777778, \"#fb9f3a\"], [0.8888888888888888, \"#fdca26\"], [1.0, \"#f0f921\"]], \"type\": \"surface\"}], \"table\": [{\"cells\": {\"fill\": {\"color\": \"#EBF0F8\"}, \"line\": {\"color\": \"white\"}}, \"header\": {\"fill\": {\"color\": \"#C8D4E3\"}, \"line\": {\"color\": \"white\"}}, \"type\": \"table\"}]}, \"layout\": {\"annotationdefaults\": {\"arrowcolor\": \"#2a3f5f\", \"arrowhead\": 0, \"arrowwidth\": 1}, \"coloraxis\": {\"colorbar\": {\"outlinewidth\": 0, \"ticks\": \"\"}}, \"colorscale\": {\"diverging\": [[0, \"#8e0152\"], [0.1, \"#c51b7d\"], [0.2, \"#de77ae\"], [0.3, \"#f1b6da\"], [0.4, \"#fde0ef\"], [0.5, \"#f7f7f7\"], [0.6, \"#e6f5d0\"], [0.7, \"#b8e186\"], [0.8, \"#7fbc41\"], [0.9, \"#4d9221\"], [1, \"#276419\"]], \"sequential\": [[0.0, \"#0d0887\"], [0.1111111111111111, \"#46039f\"], [0.2222222222222222, \"#7201a8\"], [0.3333333333333333, \"#9c179e\"], [0.4444444444444444, \"#bd3786\"], [0.5555555555555556, \"#d8576b\"], [0.6666666666666666, \"#ed7953\"], [0.7777777777777778, \"#fb9f3a\"], [0.8888888888888888, \"#fdca26\"], [1.0, \"#f0f921\"]], \"sequentialminus\": [[0.0, \"#0d0887\"], [0.1111111111111111, \"#46039f\"], [0.2222222222222222, \"#7201a8\"], [0.3333333333333333, \"#9c179e\"], [0.4444444444444444, \"#bd3786\"], [0.5555555555555556, \"#d8576b\"], [0.6666666666666666, \"#ed7953\"], [0.7777777777777778, \"#fb9f3a\"], [0.8888888888888888, \"#fdca26\"], [1.0, \"#f0f921\"]]}, \"colorway\": [\"#636efa\", \"#EF553B\", \"#00cc96\", \"#ab63fa\", \"#FFA15A\", \"#19d3f3\", \"#FF6692\", \"#B6E880\", \"#FF97FF\", \"#FECB52\"], \"font\": {\"color\": \"#2a3f5f\"}, \"geo\": {\"bgcolor\": \"white\", \"lakecolor\": \"white\", \"landcolor\": \"#E5ECF6\", \"showlakes\": true, \"showland\": true, \"subunitcolor\": \"white\"}, \"hoverlabel\": {\"align\": \"left\"}, \"hovermode\": \"closest\", \"mapbox\": {\"style\": \"light\"}, \"paper_bgcolor\": \"white\", \"plot_bgcolor\": \"#E5ECF6\", \"polar\": {\"angularaxis\": {\"gridcolor\": \"white\", \"linecolor\": \"white\", \"ticks\": \"\"}, \"bgcolor\": \"#E5ECF6\", \"radialaxis\": {\"gridcolor\": \"white\", \"linecolor\": \"white\", \"ticks\": \"\"}}, \"scene\": {\"xaxis\": {\"backgroundcolor\": \"#E5ECF6\", \"gridcolor\": \"white\", \"gridwidth\": 2, \"linecolor\": \"white\", \"showbackground\": true, \"ticks\": \"\", \"zerolinecolor\": \"white\"}, \"yaxis\": {\"backgroundcolor\": \"#E5ECF6\", \"gridcolor\": \"white\", \"gridwidth\": 2, \"linecolor\": \"white\", \"showbackground\": true, \"ticks\": \"\", \"zerolinecolor\": \"white\"}, \"zaxis\": {\"backgroundcolor\": \"#E5ECF6\", \"gridcolor\": \"white\", \"gridwidth\": 2, \"linecolor\": \"white\", \"showbackground\": true, \"ticks\": \"\", \"zerolinecolor\": \"white\"}}, \"shapedefaults\": {\"line\": {\"color\": \"#2a3f5f\"}}, \"ternary\": {\"aaxis\": {\"gridcolor\": \"white\", \"linecolor\": \"white\", \"ticks\": \"\"}, \"baxis\": {\"gridcolor\": \"white\", \"linecolor\": \"white\", \"ticks\": \"\"}, \"bgcolor\": \"#E5ECF6\", \"caxis\": {\"gridcolor\": \"white\", \"linecolor\": \"white\", \"ticks\": \"\"}}, \"title\": {\"x\": 0.05}, \"xaxis\": {\"automargin\": true, \"gridcolor\": \"white\", \"linecolor\": \"white\", \"ticks\": \"\", \"title\": {\"standoff\": 15}, \"zerolinecolor\": \"white\", \"zerolinewidth\": 2}, \"yaxis\": {\"automargin\": true, \"gridcolor\": \"white\", \"linecolor\": \"white\", \"ticks\": \"\", \"title\": {\"standoff\": 15}, \"zerolinecolor\": \"white\", \"zerolinewidth\": 2}}}},\n",
              "                        {\"responsive\": true}\n",
              "                    ).then(function(){\n",
              "                            \n",
              "var gd = document.getElementById('c6756355-f1f3-4392-bd51-b498e95a6d49');\n",
              "var x = new MutationObserver(function (mutations, observer) {{\n",
              "        var display = window.getComputedStyle(gd).display;\n",
              "        if (!display || display === 'none') {{\n",
              "            console.log([gd, 'removed!']);\n",
              "            Plotly.purge(gd);\n",
              "            observer.disconnect();\n",
              "        }}\n",
              "}});\n",
              "\n",
              "// Listen for the removal of the full notebook cells\n",
              "var notebookContainer = gd.closest('#notebook-container');\n",
              "if (notebookContainer) {{\n",
              "    x.observe(notebookContainer, {childList: true});\n",
              "}}\n",
              "\n",
              "// Listen for the clearing of the current output cell\n",
              "var outputEl = gd.closest('.output');\n",
              "if (outputEl) {{\n",
              "    x.observe(outputEl, {childList: true});\n",
              "}}\n",
              "\n",
              "                        })\n",
              "                };\n",
              "                \n",
              "            </script>\n",
              "        </div>\n",
              "</body>\n",
              "</html>"
            ]
          },
          "metadata": {
            "tags": []
          }
        }
      ]
    }
  ]
}